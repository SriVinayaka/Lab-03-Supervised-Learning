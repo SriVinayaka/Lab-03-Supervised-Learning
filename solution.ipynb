{
 "cells": [
  {
   "cell_type": "markdown",
   "id": "fcbd582c",
   "metadata": {
    "id": "fcbd582c"
   },
   "source": [
    "## Learning Outcomes\n",
    "- Exploratory data analysis & preparing the data for model building. \n",
    "- Machine Learning - Supervised Learning Classification\n",
    "  - Logistic Regression\n",
    "  - Naive bayes Classifier\n",
    "  - KNN Classifier\n",
    "  - Decision Tree Classifier\n",
    "  - Random Forest Classifier\n",
    "  - Ensemble methods\n",
    "- Training and making predictions using different classification models.\n",
    "- Model evaluation"
   ]
  },
  {
   "cell_type": "markdown",
   "id": "f2e961f9",
   "metadata": {
    "id": "f2e961f9"
   },
   "source": [
    "## Objective: \n",
    "- The Classification goal is to predict “heart disease” in a person with regards to different factors given. \n",
    "\n",
    "## Context:\n",
    "- Heart disease is one of the leading causes of death for people of most races in the US. At least 1 of 3 key risk factors for heart disease: high blood pressure, high cholesterol, and smoking. \n",
    "- Detecting and preventing the factors that have the greatest impact on heart disease is very important in healthcare. Machine learning methods may detect \"patterns\" from the data and can predict whether a patient is suffering from any heart disease or not..\n",
    "\n",
    "## Dataset Information\n",
    "\n",
    "#### Source: https://www.kaggle.com/datasets/kamilpytlak/personal-key-indicators-of-heart-disease?datasetId=1936563&sortBy=voteCount\n",
    "Originally, the dataset come from the CDC and is a major part of the Behavioral Risk Factor Surveillance System (BRFSS), which conducts annual telephone surveys to gather data on the health status of U.S. residents. \n",
    "\n",
    "This dataset consists of eighteen columns\n",
    "- HeartDisease: Respondents that have ever reported having coronary heart disease (CHD) or myocardial infarction (MI)\n",
    "- BMI: Body Mass Index (BMI)\n",
    "- Smoking: smoked at least 100 cigarettes in your entire life\n",
    "- AlcoholDrinking: Heavy drinkers (adult men having more than 14 drinks per week and adult women having more than 7 drinks per week\n",
    "- Stroke:Ever had a stroke?\n",
    "- PhysicalHealth: physical health, which includes physical illness and injury\n",
    "- MentalHealth: for how many days during the past 30 days was your mental health not good?\n",
    "- DiffWalking: Do you have serious difficulty walking or climbing stairs?\n",
    "- Sex: male or female?\n",
    "- AgeCategory: Fourteen-level age category\n",
    "- Race: Imputed race/ethnicity value\n",
    "- Diabetic: diabetes?\n",
    "- PhysicalActivity: Adults who reported doing physical activity or exercise during the past 30 days other than their regular job\n",
    "- GenHealth: Would you say that in general your health is good, fine or excellent?\n",
    "- SleepTime: On average, how many hours of sleep do you get in a 24-hour period?\n",
    "- Asthma: you had asthma?\n",
    "- KidneyDisease: Not including kidney stones, bladder infection or incontinence, were you ever told you had kidney disease?\n",
    "- SkinCancer: Ever had skin cancer?"
   ]
  },
  {
   "cell_type": "markdown",
   "id": "f8617014",
   "metadata": {
    "id": "f8617014"
   },
   "source": [
    "### 1. Importing Libraries"
   ]
  },
  {
   "cell_type": "code",
   "id": "c7172d3b",
   "metadata": {
    "id": "c7172d3b",
    "ExecuteTime": {
     "end_time": "2024-11-17T08:32:48.244648Z",
     "start_time": "2024-11-17T08:32:48.236746Z"
    }
   },
   "source": [
    "import pandas as pd\n",
    "import numpy as np\n",
    "import matplotlib.pyplot as plt\n",
    "import seaborn as sns\n",
    "import sklearn\n",
    "from sklearn.model_selection import train_test_split\n",
    "from sklearn.preprocessing import StandardScaler, LabelEncoder\n",
    "from sklearn.linear_model import LogisticRegression\n",
    "from sklearn.neighbors import KNeighborsClassifier\n",
    "from sklearn.naive_bayes import GaussianNB\n",
    "from sklearn.tree import DecisionTreeClassifier\n",
    "from sklearn.ensemble import RandomForestClassifier, AdaBoostClassifier, GradientBoostingClassifier\n",
    "from sklearn.metrics import accuracy_score, confusion_matrix, classification_report\n",
    "from sklearn.ensemble import StackingClassifier\n",
    "from sklearn.svm import SVC\n",
    "from sklearn import preprocessing\n",
    "from sklearn.ensemble import StackingClassifier\n",
    "from sklearn.tree import DecisionTreeClassifier\n",
    "import warnings\n",
    "warnings.filterwarnings('ignore')\n"
   ],
   "outputs": [],
   "execution_count": 391
  },
  {
   "cell_type": "markdown",
   "id": "8fe1a778",
   "metadata": {
    "id": "8fe1a778"
   },
   "source": [
    "### 2. Load the dataset and display a sample of five rows of the data frame."
   ]
  },
  {
   "cell_type": "code",
   "id": "70984f5f",
   "metadata": {
    "id": "70984f5f",
    "ExecuteTime": {
     "end_time": "2024-11-17T08:32:48.656781Z",
     "start_time": "2024-11-17T08:32:48.261567Z"
    }
   },
   "source": [
    "data = \"./data/heart_2020_cleaned.csv\"\n",
    "df = pd.read_csv(data)\n"
   ],
   "outputs": [],
   "execution_count": 392
  },
  {
   "metadata": {
    "ExecuteTime": {
     "end_time": "2024-11-17T08:32:48.722527Z",
     "start_time": "2024-11-17T08:32:48.703083Z"
    }
   },
   "cell_type": "code",
   "source": "df.head()",
   "id": "4d1a0d17de2c2383",
   "outputs": [
    {
     "data": {
      "text/plain": [
       "  HeartDisease    BMI Smoking AlcoholDrinking Stroke  PhysicalHealth  \\\n",
       "0           No  16.60     Yes              No     No             3.0   \n",
       "1           No  20.34      No              No    Yes             0.0   \n",
       "2           No  26.58     Yes              No     No            20.0   \n",
       "3           No  24.21      No              No     No             0.0   \n",
       "4           No  23.71      No              No     No            28.0   \n",
       "\n",
       "   MentalHealth DiffWalking     Sex  AgeCategory   Race Diabetic  \\\n",
       "0          30.0          No  Female        55-59  White      Yes   \n",
       "1           0.0          No  Female  80 or older  White       No   \n",
       "2          30.0          No    Male        65-69  White      Yes   \n",
       "3           0.0          No  Female        75-79  White       No   \n",
       "4           0.0         Yes  Female        40-44  White       No   \n",
       "\n",
       "  PhysicalActivity  GenHealth  SleepTime Asthma KidneyDisease SkinCancer  \n",
       "0              Yes  Very good        5.0    Yes            No        Yes  \n",
       "1              Yes  Very good        7.0     No            No         No  \n",
       "2              Yes       Fair        8.0    Yes            No         No  \n",
       "3               No       Good        6.0     No            No        Yes  \n",
       "4              Yes  Very good        8.0     No            No         No  "
      ],
      "text/html": [
       "<div>\n",
       "<style scoped>\n",
       "    .dataframe tbody tr th:only-of-type {\n",
       "        vertical-align: middle;\n",
       "    }\n",
       "\n",
       "    .dataframe tbody tr th {\n",
       "        vertical-align: top;\n",
       "    }\n",
       "\n",
       "    .dataframe thead th {\n",
       "        text-align: right;\n",
       "    }\n",
       "</style>\n",
       "<table border=\"1\" class=\"dataframe\">\n",
       "  <thead>\n",
       "    <tr style=\"text-align: right;\">\n",
       "      <th></th>\n",
       "      <th>HeartDisease</th>\n",
       "      <th>BMI</th>\n",
       "      <th>Smoking</th>\n",
       "      <th>AlcoholDrinking</th>\n",
       "      <th>Stroke</th>\n",
       "      <th>PhysicalHealth</th>\n",
       "      <th>MentalHealth</th>\n",
       "      <th>DiffWalking</th>\n",
       "      <th>Sex</th>\n",
       "      <th>AgeCategory</th>\n",
       "      <th>Race</th>\n",
       "      <th>Diabetic</th>\n",
       "      <th>PhysicalActivity</th>\n",
       "      <th>GenHealth</th>\n",
       "      <th>SleepTime</th>\n",
       "      <th>Asthma</th>\n",
       "      <th>KidneyDisease</th>\n",
       "      <th>SkinCancer</th>\n",
       "    </tr>\n",
       "  </thead>\n",
       "  <tbody>\n",
       "    <tr>\n",
       "      <th>0</th>\n",
       "      <td>No</td>\n",
       "      <td>16.60</td>\n",
       "      <td>Yes</td>\n",
       "      <td>No</td>\n",
       "      <td>No</td>\n",
       "      <td>3.0</td>\n",
       "      <td>30.0</td>\n",
       "      <td>No</td>\n",
       "      <td>Female</td>\n",
       "      <td>55-59</td>\n",
       "      <td>White</td>\n",
       "      <td>Yes</td>\n",
       "      <td>Yes</td>\n",
       "      <td>Very good</td>\n",
       "      <td>5.0</td>\n",
       "      <td>Yes</td>\n",
       "      <td>No</td>\n",
       "      <td>Yes</td>\n",
       "    </tr>\n",
       "    <tr>\n",
       "      <th>1</th>\n",
       "      <td>No</td>\n",
       "      <td>20.34</td>\n",
       "      <td>No</td>\n",
       "      <td>No</td>\n",
       "      <td>Yes</td>\n",
       "      <td>0.0</td>\n",
       "      <td>0.0</td>\n",
       "      <td>No</td>\n",
       "      <td>Female</td>\n",
       "      <td>80 or older</td>\n",
       "      <td>White</td>\n",
       "      <td>No</td>\n",
       "      <td>Yes</td>\n",
       "      <td>Very good</td>\n",
       "      <td>7.0</td>\n",
       "      <td>No</td>\n",
       "      <td>No</td>\n",
       "      <td>No</td>\n",
       "    </tr>\n",
       "    <tr>\n",
       "      <th>2</th>\n",
       "      <td>No</td>\n",
       "      <td>26.58</td>\n",
       "      <td>Yes</td>\n",
       "      <td>No</td>\n",
       "      <td>No</td>\n",
       "      <td>20.0</td>\n",
       "      <td>30.0</td>\n",
       "      <td>No</td>\n",
       "      <td>Male</td>\n",
       "      <td>65-69</td>\n",
       "      <td>White</td>\n",
       "      <td>Yes</td>\n",
       "      <td>Yes</td>\n",
       "      <td>Fair</td>\n",
       "      <td>8.0</td>\n",
       "      <td>Yes</td>\n",
       "      <td>No</td>\n",
       "      <td>No</td>\n",
       "    </tr>\n",
       "    <tr>\n",
       "      <th>3</th>\n",
       "      <td>No</td>\n",
       "      <td>24.21</td>\n",
       "      <td>No</td>\n",
       "      <td>No</td>\n",
       "      <td>No</td>\n",
       "      <td>0.0</td>\n",
       "      <td>0.0</td>\n",
       "      <td>No</td>\n",
       "      <td>Female</td>\n",
       "      <td>75-79</td>\n",
       "      <td>White</td>\n",
       "      <td>No</td>\n",
       "      <td>No</td>\n",
       "      <td>Good</td>\n",
       "      <td>6.0</td>\n",
       "      <td>No</td>\n",
       "      <td>No</td>\n",
       "      <td>Yes</td>\n",
       "    </tr>\n",
       "    <tr>\n",
       "      <th>4</th>\n",
       "      <td>No</td>\n",
       "      <td>23.71</td>\n",
       "      <td>No</td>\n",
       "      <td>No</td>\n",
       "      <td>No</td>\n",
       "      <td>28.0</td>\n",
       "      <td>0.0</td>\n",
       "      <td>Yes</td>\n",
       "      <td>Female</td>\n",
       "      <td>40-44</td>\n",
       "      <td>White</td>\n",
       "      <td>No</td>\n",
       "      <td>Yes</td>\n",
       "      <td>Very good</td>\n",
       "      <td>8.0</td>\n",
       "      <td>No</td>\n",
       "      <td>No</td>\n",
       "      <td>No</td>\n",
       "    </tr>\n",
       "  </tbody>\n",
       "</table>\n",
       "</div>"
      ]
     },
     "execution_count": 393,
     "metadata": {},
     "output_type": "execute_result"
    }
   ],
   "execution_count": 393
  },
  {
   "cell_type": "markdown",
   "id": "eda763be",
   "metadata": {
    "id": "eda763be"
   },
   "source": [
    "### 3. Check the shape of the data (number of rows and columns). Check the general information about the dataframe using the .info() method."
   ]
  },
  {
   "cell_type": "code",
   "id": "c246297d",
   "metadata": {
    "id": "c246297d",
    "ExecuteTime": {
     "end_time": "2024-11-17T08:32:48.817239Z",
     "start_time": "2024-11-17T08:32:48.811039Z"
    }
   },
   "source": [
    "import warnings\n",
    "from sklearn.exceptions import ConvergenceWarning\n",
    "\n",
    "warnings.filterwarnings(\"ignore\", category=ConvergenceWarning)"
   ],
   "outputs": [],
   "execution_count": 394
  },
  {
   "metadata": {
    "ExecuteTime": {
     "end_time": "2024-11-17T08:32:48.887052Z",
     "start_time": "2024-11-17T08:32:48.880150Z"
    }
   },
   "cell_type": "code",
   "source": [
    "# Check the shape of the data\n",
    "df.shape\n",
    "\n"
   ],
   "id": "1348e98279375aa8",
   "outputs": [
    {
     "data": {
      "text/plain": [
       "(319795, 18)"
      ]
     },
     "execution_count": 395,
     "metadata": {},
     "output_type": "execute_result"
    }
   ],
   "execution_count": 395
  },
  {
   "metadata": {
    "ExecuteTime": {
     "end_time": "2024-11-17T08:32:49.202675Z",
     "start_time": "2024-11-17T08:32:49.062043Z"
    }
   },
   "cell_type": "code",
   "source": [
    "# General info about the dataset\n",
    "df.info()\n"
   ],
   "id": "dba9c4876371f7d2",
   "outputs": [
    {
     "name": "stdout",
     "output_type": "stream",
     "text": [
      "<class 'pandas.core.frame.DataFrame'>\n",
      "RangeIndex: 319795 entries, 0 to 319794\n",
      "Data columns (total 18 columns):\n",
      " #   Column            Non-Null Count   Dtype  \n",
      "---  ------            --------------   -----  \n",
      " 0   HeartDisease      319795 non-null  object \n",
      " 1   BMI               319795 non-null  float64\n",
      " 2   Smoking           319795 non-null  object \n",
      " 3   AlcoholDrinking   319795 non-null  object \n",
      " 4   Stroke            319795 non-null  object \n",
      " 5   PhysicalHealth    319795 non-null  float64\n",
      " 6   MentalHealth      319795 non-null  float64\n",
      " 7   DiffWalking       319795 non-null  object \n",
      " 8   Sex               319795 non-null  object \n",
      " 9   AgeCategory       319795 non-null  object \n",
      " 10  Race              319795 non-null  object \n",
      " 11  Diabetic          319795 non-null  object \n",
      " 12  PhysicalActivity  319795 non-null  object \n",
      " 13  GenHealth         319795 non-null  object \n",
      " 14  SleepTime         319795 non-null  float64\n",
      " 15  Asthma            319795 non-null  object \n",
      " 16  KidneyDisease     319795 non-null  object \n",
      " 17  SkinCancer        319795 non-null  object \n",
      "dtypes: float64(4), object(14)\n",
      "memory usage: 43.9+ MB\n"
     ]
    }
   ],
   "execution_count": 396
  },
  {
   "cell_type": "markdown",
   "id": "b8470476",
   "metadata": {
    "id": "b8470476"
   },
   "source": [
    "### 4. Check the statistical summary of the dataset and write your inferences."
   ]
  },
  {
   "cell_type": "code",
   "id": "b28786f2",
   "metadata": {
    "id": "b28786f2",
    "ExecuteTime": {
     "end_time": "2024-11-17T08:32:49.297042Z",
     "start_time": "2024-11-17T08:32:49.245575Z"
    }
   },
   "source": [
    "# Statistical summary of the dataset\n",
    "df.describe()\n"
   ],
   "outputs": [
    {
     "data": {
      "text/plain": [
       "                 BMI  PhysicalHealth   MentalHealth      SleepTime\n",
       "count  319795.000000    319795.00000  319795.000000  319795.000000\n",
       "mean       28.325399         3.37171       3.898366       7.097075\n",
       "std         6.356100         7.95085       7.955235       1.436007\n",
       "min        12.020000         0.00000       0.000000       1.000000\n",
       "25%        24.030000         0.00000       0.000000       6.000000\n",
       "50%        27.340000         0.00000       0.000000       7.000000\n",
       "75%        31.420000         2.00000       3.000000       8.000000\n",
       "max        94.850000        30.00000      30.000000      24.000000"
      ],
      "text/html": [
       "<div>\n",
       "<style scoped>\n",
       "    .dataframe tbody tr th:only-of-type {\n",
       "        vertical-align: middle;\n",
       "    }\n",
       "\n",
       "    .dataframe tbody tr th {\n",
       "        vertical-align: top;\n",
       "    }\n",
       "\n",
       "    .dataframe thead th {\n",
       "        text-align: right;\n",
       "    }\n",
       "</style>\n",
       "<table border=\"1\" class=\"dataframe\">\n",
       "  <thead>\n",
       "    <tr style=\"text-align: right;\">\n",
       "      <th></th>\n",
       "      <th>BMI</th>\n",
       "      <th>PhysicalHealth</th>\n",
       "      <th>MentalHealth</th>\n",
       "      <th>SleepTime</th>\n",
       "    </tr>\n",
       "  </thead>\n",
       "  <tbody>\n",
       "    <tr>\n",
       "      <th>count</th>\n",
       "      <td>319795.000000</td>\n",
       "      <td>319795.00000</td>\n",
       "      <td>319795.000000</td>\n",
       "      <td>319795.000000</td>\n",
       "    </tr>\n",
       "    <tr>\n",
       "      <th>mean</th>\n",
       "      <td>28.325399</td>\n",
       "      <td>3.37171</td>\n",
       "      <td>3.898366</td>\n",
       "      <td>7.097075</td>\n",
       "    </tr>\n",
       "    <tr>\n",
       "      <th>std</th>\n",
       "      <td>6.356100</td>\n",
       "      <td>7.95085</td>\n",
       "      <td>7.955235</td>\n",
       "      <td>1.436007</td>\n",
       "    </tr>\n",
       "    <tr>\n",
       "      <th>min</th>\n",
       "      <td>12.020000</td>\n",
       "      <td>0.00000</td>\n",
       "      <td>0.000000</td>\n",
       "      <td>1.000000</td>\n",
       "    </tr>\n",
       "    <tr>\n",
       "      <th>25%</th>\n",
       "      <td>24.030000</td>\n",
       "      <td>0.00000</td>\n",
       "      <td>0.000000</td>\n",
       "      <td>6.000000</td>\n",
       "    </tr>\n",
       "    <tr>\n",
       "      <th>50%</th>\n",
       "      <td>27.340000</td>\n",
       "      <td>0.00000</td>\n",
       "      <td>0.000000</td>\n",
       "      <td>7.000000</td>\n",
       "    </tr>\n",
       "    <tr>\n",
       "      <th>75%</th>\n",
       "      <td>31.420000</td>\n",
       "      <td>2.00000</td>\n",
       "      <td>3.000000</td>\n",
       "      <td>8.000000</td>\n",
       "    </tr>\n",
       "    <tr>\n",
       "      <th>max</th>\n",
       "      <td>94.850000</td>\n",
       "      <td>30.00000</td>\n",
       "      <td>30.000000</td>\n",
       "      <td>24.000000</td>\n",
       "    </tr>\n",
       "  </tbody>\n",
       "</table>\n",
       "</div>"
      ]
     },
     "execution_count": 397,
     "metadata": {},
     "output_type": "execute_result"
    }
   ],
   "execution_count": 397
  },
  {
   "metadata": {
    "ExecuteTime": {
     "end_time": "2024-11-17T08:32:49.433978Z",
     "start_time": "2024-11-17T08:32:49.379550Z"
    }
   },
   "cell_type": "code",
   "source": "df.describe().T\n",
   "id": "ed4d86d5cdefd900",
   "outputs": [
    {
     "data": {
      "text/plain": [
       "                   count       mean       std    min    25%    50%    75%  \\\n",
       "BMI             319795.0  28.325399  6.356100  12.02  24.03  27.34  31.42   \n",
       "PhysicalHealth  319795.0   3.371710  7.950850   0.00   0.00   0.00   2.00   \n",
       "MentalHealth    319795.0   3.898366  7.955235   0.00   0.00   0.00   3.00   \n",
       "SleepTime       319795.0   7.097075  1.436007   1.00   6.00   7.00   8.00   \n",
       "\n",
       "                  max  \n",
       "BMI             94.85  \n",
       "PhysicalHealth  30.00  \n",
       "MentalHealth    30.00  \n",
       "SleepTime       24.00  "
      ],
      "text/html": [
       "<div>\n",
       "<style scoped>\n",
       "    .dataframe tbody tr th:only-of-type {\n",
       "        vertical-align: middle;\n",
       "    }\n",
       "\n",
       "    .dataframe tbody tr th {\n",
       "        vertical-align: top;\n",
       "    }\n",
       "\n",
       "    .dataframe thead th {\n",
       "        text-align: right;\n",
       "    }\n",
       "</style>\n",
       "<table border=\"1\" class=\"dataframe\">\n",
       "  <thead>\n",
       "    <tr style=\"text-align: right;\">\n",
       "      <th></th>\n",
       "      <th>count</th>\n",
       "      <th>mean</th>\n",
       "      <th>std</th>\n",
       "      <th>min</th>\n",
       "      <th>25%</th>\n",
       "      <th>50%</th>\n",
       "      <th>75%</th>\n",
       "      <th>max</th>\n",
       "    </tr>\n",
       "  </thead>\n",
       "  <tbody>\n",
       "    <tr>\n",
       "      <th>BMI</th>\n",
       "      <td>319795.0</td>\n",
       "      <td>28.325399</td>\n",
       "      <td>6.356100</td>\n",
       "      <td>12.02</td>\n",
       "      <td>24.03</td>\n",
       "      <td>27.34</td>\n",
       "      <td>31.42</td>\n",
       "      <td>94.85</td>\n",
       "    </tr>\n",
       "    <tr>\n",
       "      <th>PhysicalHealth</th>\n",
       "      <td>319795.0</td>\n",
       "      <td>3.371710</td>\n",
       "      <td>7.950850</td>\n",
       "      <td>0.00</td>\n",
       "      <td>0.00</td>\n",
       "      <td>0.00</td>\n",
       "      <td>2.00</td>\n",
       "      <td>30.00</td>\n",
       "    </tr>\n",
       "    <tr>\n",
       "      <th>MentalHealth</th>\n",
       "      <td>319795.0</td>\n",
       "      <td>3.898366</td>\n",
       "      <td>7.955235</td>\n",
       "      <td>0.00</td>\n",
       "      <td>0.00</td>\n",
       "      <td>0.00</td>\n",
       "      <td>3.00</td>\n",
       "      <td>30.00</td>\n",
       "    </tr>\n",
       "    <tr>\n",
       "      <th>SleepTime</th>\n",
       "      <td>319795.0</td>\n",
       "      <td>7.097075</td>\n",
       "      <td>1.436007</td>\n",
       "      <td>1.00</td>\n",
       "      <td>6.00</td>\n",
       "      <td>7.00</td>\n",
       "      <td>8.00</td>\n",
       "      <td>24.00</td>\n",
       "    </tr>\n",
       "  </tbody>\n",
       "</table>\n",
       "</div>"
      ]
     },
     "execution_count": 398,
     "metadata": {},
     "output_type": "execute_result"
    }
   ],
   "execution_count": 398
  },
  {
   "metadata": {
    "ExecuteTime": {
     "end_time": "2024-11-17T08:32:49.982264Z",
     "start_time": "2024-11-17T08:32:49.509413Z"
    }
   },
   "cell_type": "code",
   "source": "df.describe(include='all')\n",
   "id": "14d465ca40d120d1",
   "outputs": [
    {
     "data": {
      "text/plain": [
       "       HeartDisease            BMI Smoking AlcoholDrinking  Stroke  \\\n",
       "count        319795  319795.000000  319795          319795  319795   \n",
       "unique            2            NaN       2               2       2   \n",
       "top              No            NaN      No              No      No   \n",
       "freq         292422            NaN  187887          298018  307726   \n",
       "mean            NaN      28.325399     NaN             NaN     NaN   \n",
       "std             NaN       6.356100     NaN             NaN     NaN   \n",
       "min             NaN      12.020000     NaN             NaN     NaN   \n",
       "25%             NaN      24.030000     NaN             NaN     NaN   \n",
       "50%             NaN      27.340000     NaN             NaN     NaN   \n",
       "75%             NaN      31.420000     NaN             NaN     NaN   \n",
       "max             NaN      94.850000     NaN             NaN     NaN   \n",
       "\n",
       "        PhysicalHealth   MentalHealth DiffWalking     Sex AgeCategory    Race  \\\n",
       "count     319795.00000  319795.000000      319795  319795      319795  319795   \n",
       "unique             NaN            NaN           2       2          13       6   \n",
       "top                NaN            NaN          No  Female       65-69   White   \n",
       "freq               NaN            NaN      275385  167805       34151  245212   \n",
       "mean           3.37171       3.898366         NaN     NaN         NaN     NaN   \n",
       "std            7.95085       7.955235         NaN     NaN         NaN     NaN   \n",
       "min            0.00000       0.000000         NaN     NaN         NaN     NaN   \n",
       "25%            0.00000       0.000000         NaN     NaN         NaN     NaN   \n",
       "50%            0.00000       0.000000         NaN     NaN         NaN     NaN   \n",
       "75%            2.00000       3.000000         NaN     NaN         NaN     NaN   \n",
       "max           30.00000      30.000000         NaN     NaN         NaN     NaN   \n",
       "\n",
       "       Diabetic PhysicalActivity  GenHealth      SleepTime  Asthma  \\\n",
       "count    319795           319795     319795  319795.000000  319795   \n",
       "unique        4                2          5            NaN       2   \n",
       "top          No              Yes  Very good            NaN      No   \n",
       "freq     269653           247957     113858            NaN  276923   \n",
       "mean        NaN              NaN        NaN       7.097075     NaN   \n",
       "std         NaN              NaN        NaN       1.436007     NaN   \n",
       "min         NaN              NaN        NaN       1.000000     NaN   \n",
       "25%         NaN              NaN        NaN       6.000000     NaN   \n",
       "50%         NaN              NaN        NaN       7.000000     NaN   \n",
       "75%         NaN              NaN        NaN       8.000000     NaN   \n",
       "max         NaN              NaN        NaN      24.000000     NaN   \n",
       "\n",
       "       KidneyDisease SkinCancer  \n",
       "count         319795     319795  \n",
       "unique             2          2  \n",
       "top               No         No  \n",
       "freq          308016     289976  \n",
       "mean             NaN        NaN  \n",
       "std              NaN        NaN  \n",
       "min              NaN        NaN  \n",
       "25%              NaN        NaN  \n",
       "50%              NaN        NaN  \n",
       "75%              NaN        NaN  \n",
       "max              NaN        NaN  "
      ],
      "text/html": [
       "<div>\n",
       "<style scoped>\n",
       "    .dataframe tbody tr th:only-of-type {\n",
       "        vertical-align: middle;\n",
       "    }\n",
       "\n",
       "    .dataframe tbody tr th {\n",
       "        vertical-align: top;\n",
       "    }\n",
       "\n",
       "    .dataframe thead th {\n",
       "        text-align: right;\n",
       "    }\n",
       "</style>\n",
       "<table border=\"1\" class=\"dataframe\">\n",
       "  <thead>\n",
       "    <tr style=\"text-align: right;\">\n",
       "      <th></th>\n",
       "      <th>HeartDisease</th>\n",
       "      <th>BMI</th>\n",
       "      <th>Smoking</th>\n",
       "      <th>AlcoholDrinking</th>\n",
       "      <th>Stroke</th>\n",
       "      <th>PhysicalHealth</th>\n",
       "      <th>MentalHealth</th>\n",
       "      <th>DiffWalking</th>\n",
       "      <th>Sex</th>\n",
       "      <th>AgeCategory</th>\n",
       "      <th>Race</th>\n",
       "      <th>Diabetic</th>\n",
       "      <th>PhysicalActivity</th>\n",
       "      <th>GenHealth</th>\n",
       "      <th>SleepTime</th>\n",
       "      <th>Asthma</th>\n",
       "      <th>KidneyDisease</th>\n",
       "      <th>SkinCancer</th>\n",
       "    </tr>\n",
       "  </thead>\n",
       "  <tbody>\n",
       "    <tr>\n",
       "      <th>count</th>\n",
       "      <td>319795</td>\n",
       "      <td>319795.000000</td>\n",
       "      <td>319795</td>\n",
       "      <td>319795</td>\n",
       "      <td>319795</td>\n",
       "      <td>319795.00000</td>\n",
       "      <td>319795.000000</td>\n",
       "      <td>319795</td>\n",
       "      <td>319795</td>\n",
       "      <td>319795</td>\n",
       "      <td>319795</td>\n",
       "      <td>319795</td>\n",
       "      <td>319795</td>\n",
       "      <td>319795</td>\n",
       "      <td>319795.000000</td>\n",
       "      <td>319795</td>\n",
       "      <td>319795</td>\n",
       "      <td>319795</td>\n",
       "    </tr>\n",
       "    <tr>\n",
       "      <th>unique</th>\n",
       "      <td>2</td>\n",
       "      <td>NaN</td>\n",
       "      <td>2</td>\n",
       "      <td>2</td>\n",
       "      <td>2</td>\n",
       "      <td>NaN</td>\n",
       "      <td>NaN</td>\n",
       "      <td>2</td>\n",
       "      <td>2</td>\n",
       "      <td>13</td>\n",
       "      <td>6</td>\n",
       "      <td>4</td>\n",
       "      <td>2</td>\n",
       "      <td>5</td>\n",
       "      <td>NaN</td>\n",
       "      <td>2</td>\n",
       "      <td>2</td>\n",
       "      <td>2</td>\n",
       "    </tr>\n",
       "    <tr>\n",
       "      <th>top</th>\n",
       "      <td>No</td>\n",
       "      <td>NaN</td>\n",
       "      <td>No</td>\n",
       "      <td>No</td>\n",
       "      <td>No</td>\n",
       "      <td>NaN</td>\n",
       "      <td>NaN</td>\n",
       "      <td>No</td>\n",
       "      <td>Female</td>\n",
       "      <td>65-69</td>\n",
       "      <td>White</td>\n",
       "      <td>No</td>\n",
       "      <td>Yes</td>\n",
       "      <td>Very good</td>\n",
       "      <td>NaN</td>\n",
       "      <td>No</td>\n",
       "      <td>No</td>\n",
       "      <td>No</td>\n",
       "    </tr>\n",
       "    <tr>\n",
       "      <th>freq</th>\n",
       "      <td>292422</td>\n",
       "      <td>NaN</td>\n",
       "      <td>187887</td>\n",
       "      <td>298018</td>\n",
       "      <td>307726</td>\n",
       "      <td>NaN</td>\n",
       "      <td>NaN</td>\n",
       "      <td>275385</td>\n",
       "      <td>167805</td>\n",
       "      <td>34151</td>\n",
       "      <td>245212</td>\n",
       "      <td>269653</td>\n",
       "      <td>247957</td>\n",
       "      <td>113858</td>\n",
       "      <td>NaN</td>\n",
       "      <td>276923</td>\n",
       "      <td>308016</td>\n",
       "      <td>289976</td>\n",
       "    </tr>\n",
       "    <tr>\n",
       "      <th>mean</th>\n",
       "      <td>NaN</td>\n",
       "      <td>28.325399</td>\n",
       "      <td>NaN</td>\n",
       "      <td>NaN</td>\n",
       "      <td>NaN</td>\n",
       "      <td>3.37171</td>\n",
       "      <td>3.898366</td>\n",
       "      <td>NaN</td>\n",
       "      <td>NaN</td>\n",
       "      <td>NaN</td>\n",
       "      <td>NaN</td>\n",
       "      <td>NaN</td>\n",
       "      <td>NaN</td>\n",
       "      <td>NaN</td>\n",
       "      <td>7.097075</td>\n",
       "      <td>NaN</td>\n",
       "      <td>NaN</td>\n",
       "      <td>NaN</td>\n",
       "    </tr>\n",
       "    <tr>\n",
       "      <th>std</th>\n",
       "      <td>NaN</td>\n",
       "      <td>6.356100</td>\n",
       "      <td>NaN</td>\n",
       "      <td>NaN</td>\n",
       "      <td>NaN</td>\n",
       "      <td>7.95085</td>\n",
       "      <td>7.955235</td>\n",
       "      <td>NaN</td>\n",
       "      <td>NaN</td>\n",
       "      <td>NaN</td>\n",
       "      <td>NaN</td>\n",
       "      <td>NaN</td>\n",
       "      <td>NaN</td>\n",
       "      <td>NaN</td>\n",
       "      <td>1.436007</td>\n",
       "      <td>NaN</td>\n",
       "      <td>NaN</td>\n",
       "      <td>NaN</td>\n",
       "    </tr>\n",
       "    <tr>\n",
       "      <th>min</th>\n",
       "      <td>NaN</td>\n",
       "      <td>12.020000</td>\n",
       "      <td>NaN</td>\n",
       "      <td>NaN</td>\n",
       "      <td>NaN</td>\n",
       "      <td>0.00000</td>\n",
       "      <td>0.000000</td>\n",
       "      <td>NaN</td>\n",
       "      <td>NaN</td>\n",
       "      <td>NaN</td>\n",
       "      <td>NaN</td>\n",
       "      <td>NaN</td>\n",
       "      <td>NaN</td>\n",
       "      <td>NaN</td>\n",
       "      <td>1.000000</td>\n",
       "      <td>NaN</td>\n",
       "      <td>NaN</td>\n",
       "      <td>NaN</td>\n",
       "    </tr>\n",
       "    <tr>\n",
       "      <th>25%</th>\n",
       "      <td>NaN</td>\n",
       "      <td>24.030000</td>\n",
       "      <td>NaN</td>\n",
       "      <td>NaN</td>\n",
       "      <td>NaN</td>\n",
       "      <td>0.00000</td>\n",
       "      <td>0.000000</td>\n",
       "      <td>NaN</td>\n",
       "      <td>NaN</td>\n",
       "      <td>NaN</td>\n",
       "      <td>NaN</td>\n",
       "      <td>NaN</td>\n",
       "      <td>NaN</td>\n",
       "      <td>NaN</td>\n",
       "      <td>6.000000</td>\n",
       "      <td>NaN</td>\n",
       "      <td>NaN</td>\n",
       "      <td>NaN</td>\n",
       "    </tr>\n",
       "    <tr>\n",
       "      <th>50%</th>\n",
       "      <td>NaN</td>\n",
       "      <td>27.340000</td>\n",
       "      <td>NaN</td>\n",
       "      <td>NaN</td>\n",
       "      <td>NaN</td>\n",
       "      <td>0.00000</td>\n",
       "      <td>0.000000</td>\n",
       "      <td>NaN</td>\n",
       "      <td>NaN</td>\n",
       "      <td>NaN</td>\n",
       "      <td>NaN</td>\n",
       "      <td>NaN</td>\n",
       "      <td>NaN</td>\n",
       "      <td>NaN</td>\n",
       "      <td>7.000000</td>\n",
       "      <td>NaN</td>\n",
       "      <td>NaN</td>\n",
       "      <td>NaN</td>\n",
       "    </tr>\n",
       "    <tr>\n",
       "      <th>75%</th>\n",
       "      <td>NaN</td>\n",
       "      <td>31.420000</td>\n",
       "      <td>NaN</td>\n",
       "      <td>NaN</td>\n",
       "      <td>NaN</td>\n",
       "      <td>2.00000</td>\n",
       "      <td>3.000000</td>\n",
       "      <td>NaN</td>\n",
       "      <td>NaN</td>\n",
       "      <td>NaN</td>\n",
       "      <td>NaN</td>\n",
       "      <td>NaN</td>\n",
       "      <td>NaN</td>\n",
       "      <td>NaN</td>\n",
       "      <td>8.000000</td>\n",
       "      <td>NaN</td>\n",
       "      <td>NaN</td>\n",
       "      <td>NaN</td>\n",
       "    </tr>\n",
       "    <tr>\n",
       "      <th>max</th>\n",
       "      <td>NaN</td>\n",
       "      <td>94.850000</td>\n",
       "      <td>NaN</td>\n",
       "      <td>NaN</td>\n",
       "      <td>NaN</td>\n",
       "      <td>30.00000</td>\n",
       "      <td>30.000000</td>\n",
       "      <td>NaN</td>\n",
       "      <td>NaN</td>\n",
       "      <td>NaN</td>\n",
       "      <td>NaN</td>\n",
       "      <td>NaN</td>\n",
       "      <td>NaN</td>\n",
       "      <td>NaN</td>\n",
       "      <td>24.000000</td>\n",
       "      <td>NaN</td>\n",
       "      <td>NaN</td>\n",
       "      <td>NaN</td>\n",
       "    </tr>\n",
       "  </tbody>\n",
       "</table>\n",
       "</div>"
      ]
     },
     "execution_count": 399,
     "metadata": {},
     "output_type": "execute_result"
    }
   ],
   "execution_count": 399
  },
  {
   "metadata": {
    "ExecuteTime": {
     "end_time": "2024-11-17T08:32:50.528942Z",
     "start_time": "2024-11-17T08:32:50.060614Z"
    }
   },
   "cell_type": "code",
   "source": "df.describe(include='all').T\n",
   "id": "84d3927d3c899f88",
   "outputs": [
    {
     "data": {
      "text/plain": [
       "                     count unique        top    freq       mean       std  \\\n",
       "HeartDisease        319795      2         No  292422        NaN       NaN   \n",
       "BMI               319795.0    NaN        NaN     NaN  28.325399    6.3561   \n",
       "Smoking             319795      2         No  187887        NaN       NaN   \n",
       "AlcoholDrinking     319795      2         No  298018        NaN       NaN   \n",
       "Stroke              319795      2         No  307726        NaN       NaN   \n",
       "PhysicalHealth    319795.0    NaN        NaN     NaN    3.37171   7.95085   \n",
       "MentalHealth      319795.0    NaN        NaN     NaN   3.898366  7.955235   \n",
       "DiffWalking         319795      2         No  275385        NaN       NaN   \n",
       "Sex                 319795      2     Female  167805        NaN       NaN   \n",
       "AgeCategory         319795     13      65-69   34151        NaN       NaN   \n",
       "Race                319795      6      White  245212        NaN       NaN   \n",
       "Diabetic            319795      4         No  269653        NaN       NaN   \n",
       "PhysicalActivity    319795      2        Yes  247957        NaN       NaN   \n",
       "GenHealth           319795      5  Very good  113858        NaN       NaN   \n",
       "SleepTime         319795.0    NaN        NaN     NaN   7.097075  1.436007   \n",
       "Asthma              319795      2         No  276923        NaN       NaN   \n",
       "KidneyDisease       319795      2         No  308016        NaN       NaN   \n",
       "SkinCancer          319795      2         No  289976        NaN       NaN   \n",
       "\n",
       "                    min    25%    50%    75%    max  \n",
       "HeartDisease        NaN    NaN    NaN    NaN    NaN  \n",
       "BMI               12.02  24.03  27.34  31.42  94.85  \n",
       "Smoking             NaN    NaN    NaN    NaN    NaN  \n",
       "AlcoholDrinking     NaN    NaN    NaN    NaN    NaN  \n",
       "Stroke              NaN    NaN    NaN    NaN    NaN  \n",
       "PhysicalHealth      0.0    0.0    0.0    2.0   30.0  \n",
       "MentalHealth        0.0    0.0    0.0    3.0   30.0  \n",
       "DiffWalking         NaN    NaN    NaN    NaN    NaN  \n",
       "Sex                 NaN    NaN    NaN    NaN    NaN  \n",
       "AgeCategory         NaN    NaN    NaN    NaN    NaN  \n",
       "Race                NaN    NaN    NaN    NaN    NaN  \n",
       "Diabetic            NaN    NaN    NaN    NaN    NaN  \n",
       "PhysicalActivity    NaN    NaN    NaN    NaN    NaN  \n",
       "GenHealth           NaN    NaN    NaN    NaN    NaN  \n",
       "SleepTime           1.0    6.0    7.0    8.0   24.0  \n",
       "Asthma              NaN    NaN    NaN    NaN    NaN  \n",
       "KidneyDisease       NaN    NaN    NaN    NaN    NaN  \n",
       "SkinCancer          NaN    NaN    NaN    NaN    NaN  "
      ],
      "text/html": [
       "<div>\n",
       "<style scoped>\n",
       "    .dataframe tbody tr th:only-of-type {\n",
       "        vertical-align: middle;\n",
       "    }\n",
       "\n",
       "    .dataframe tbody tr th {\n",
       "        vertical-align: top;\n",
       "    }\n",
       "\n",
       "    .dataframe thead th {\n",
       "        text-align: right;\n",
       "    }\n",
       "</style>\n",
       "<table border=\"1\" class=\"dataframe\">\n",
       "  <thead>\n",
       "    <tr style=\"text-align: right;\">\n",
       "      <th></th>\n",
       "      <th>count</th>\n",
       "      <th>unique</th>\n",
       "      <th>top</th>\n",
       "      <th>freq</th>\n",
       "      <th>mean</th>\n",
       "      <th>std</th>\n",
       "      <th>min</th>\n",
       "      <th>25%</th>\n",
       "      <th>50%</th>\n",
       "      <th>75%</th>\n",
       "      <th>max</th>\n",
       "    </tr>\n",
       "  </thead>\n",
       "  <tbody>\n",
       "    <tr>\n",
       "      <th>HeartDisease</th>\n",
       "      <td>319795</td>\n",
       "      <td>2</td>\n",
       "      <td>No</td>\n",
       "      <td>292422</td>\n",
       "      <td>NaN</td>\n",
       "      <td>NaN</td>\n",
       "      <td>NaN</td>\n",
       "      <td>NaN</td>\n",
       "      <td>NaN</td>\n",
       "      <td>NaN</td>\n",
       "      <td>NaN</td>\n",
       "    </tr>\n",
       "    <tr>\n",
       "      <th>BMI</th>\n",
       "      <td>319795.0</td>\n",
       "      <td>NaN</td>\n",
       "      <td>NaN</td>\n",
       "      <td>NaN</td>\n",
       "      <td>28.325399</td>\n",
       "      <td>6.3561</td>\n",
       "      <td>12.02</td>\n",
       "      <td>24.03</td>\n",
       "      <td>27.34</td>\n",
       "      <td>31.42</td>\n",
       "      <td>94.85</td>\n",
       "    </tr>\n",
       "    <tr>\n",
       "      <th>Smoking</th>\n",
       "      <td>319795</td>\n",
       "      <td>2</td>\n",
       "      <td>No</td>\n",
       "      <td>187887</td>\n",
       "      <td>NaN</td>\n",
       "      <td>NaN</td>\n",
       "      <td>NaN</td>\n",
       "      <td>NaN</td>\n",
       "      <td>NaN</td>\n",
       "      <td>NaN</td>\n",
       "      <td>NaN</td>\n",
       "    </tr>\n",
       "    <tr>\n",
       "      <th>AlcoholDrinking</th>\n",
       "      <td>319795</td>\n",
       "      <td>2</td>\n",
       "      <td>No</td>\n",
       "      <td>298018</td>\n",
       "      <td>NaN</td>\n",
       "      <td>NaN</td>\n",
       "      <td>NaN</td>\n",
       "      <td>NaN</td>\n",
       "      <td>NaN</td>\n",
       "      <td>NaN</td>\n",
       "      <td>NaN</td>\n",
       "    </tr>\n",
       "    <tr>\n",
       "      <th>Stroke</th>\n",
       "      <td>319795</td>\n",
       "      <td>2</td>\n",
       "      <td>No</td>\n",
       "      <td>307726</td>\n",
       "      <td>NaN</td>\n",
       "      <td>NaN</td>\n",
       "      <td>NaN</td>\n",
       "      <td>NaN</td>\n",
       "      <td>NaN</td>\n",
       "      <td>NaN</td>\n",
       "      <td>NaN</td>\n",
       "    </tr>\n",
       "    <tr>\n",
       "      <th>PhysicalHealth</th>\n",
       "      <td>319795.0</td>\n",
       "      <td>NaN</td>\n",
       "      <td>NaN</td>\n",
       "      <td>NaN</td>\n",
       "      <td>3.37171</td>\n",
       "      <td>7.95085</td>\n",
       "      <td>0.0</td>\n",
       "      <td>0.0</td>\n",
       "      <td>0.0</td>\n",
       "      <td>2.0</td>\n",
       "      <td>30.0</td>\n",
       "    </tr>\n",
       "    <tr>\n",
       "      <th>MentalHealth</th>\n",
       "      <td>319795.0</td>\n",
       "      <td>NaN</td>\n",
       "      <td>NaN</td>\n",
       "      <td>NaN</td>\n",
       "      <td>3.898366</td>\n",
       "      <td>7.955235</td>\n",
       "      <td>0.0</td>\n",
       "      <td>0.0</td>\n",
       "      <td>0.0</td>\n",
       "      <td>3.0</td>\n",
       "      <td>30.0</td>\n",
       "    </tr>\n",
       "    <tr>\n",
       "      <th>DiffWalking</th>\n",
       "      <td>319795</td>\n",
       "      <td>2</td>\n",
       "      <td>No</td>\n",
       "      <td>275385</td>\n",
       "      <td>NaN</td>\n",
       "      <td>NaN</td>\n",
       "      <td>NaN</td>\n",
       "      <td>NaN</td>\n",
       "      <td>NaN</td>\n",
       "      <td>NaN</td>\n",
       "      <td>NaN</td>\n",
       "    </tr>\n",
       "    <tr>\n",
       "      <th>Sex</th>\n",
       "      <td>319795</td>\n",
       "      <td>2</td>\n",
       "      <td>Female</td>\n",
       "      <td>167805</td>\n",
       "      <td>NaN</td>\n",
       "      <td>NaN</td>\n",
       "      <td>NaN</td>\n",
       "      <td>NaN</td>\n",
       "      <td>NaN</td>\n",
       "      <td>NaN</td>\n",
       "      <td>NaN</td>\n",
       "    </tr>\n",
       "    <tr>\n",
       "      <th>AgeCategory</th>\n",
       "      <td>319795</td>\n",
       "      <td>13</td>\n",
       "      <td>65-69</td>\n",
       "      <td>34151</td>\n",
       "      <td>NaN</td>\n",
       "      <td>NaN</td>\n",
       "      <td>NaN</td>\n",
       "      <td>NaN</td>\n",
       "      <td>NaN</td>\n",
       "      <td>NaN</td>\n",
       "      <td>NaN</td>\n",
       "    </tr>\n",
       "    <tr>\n",
       "      <th>Race</th>\n",
       "      <td>319795</td>\n",
       "      <td>6</td>\n",
       "      <td>White</td>\n",
       "      <td>245212</td>\n",
       "      <td>NaN</td>\n",
       "      <td>NaN</td>\n",
       "      <td>NaN</td>\n",
       "      <td>NaN</td>\n",
       "      <td>NaN</td>\n",
       "      <td>NaN</td>\n",
       "      <td>NaN</td>\n",
       "    </tr>\n",
       "    <tr>\n",
       "      <th>Diabetic</th>\n",
       "      <td>319795</td>\n",
       "      <td>4</td>\n",
       "      <td>No</td>\n",
       "      <td>269653</td>\n",
       "      <td>NaN</td>\n",
       "      <td>NaN</td>\n",
       "      <td>NaN</td>\n",
       "      <td>NaN</td>\n",
       "      <td>NaN</td>\n",
       "      <td>NaN</td>\n",
       "      <td>NaN</td>\n",
       "    </tr>\n",
       "    <tr>\n",
       "      <th>PhysicalActivity</th>\n",
       "      <td>319795</td>\n",
       "      <td>2</td>\n",
       "      <td>Yes</td>\n",
       "      <td>247957</td>\n",
       "      <td>NaN</td>\n",
       "      <td>NaN</td>\n",
       "      <td>NaN</td>\n",
       "      <td>NaN</td>\n",
       "      <td>NaN</td>\n",
       "      <td>NaN</td>\n",
       "      <td>NaN</td>\n",
       "    </tr>\n",
       "    <tr>\n",
       "      <th>GenHealth</th>\n",
       "      <td>319795</td>\n",
       "      <td>5</td>\n",
       "      <td>Very good</td>\n",
       "      <td>113858</td>\n",
       "      <td>NaN</td>\n",
       "      <td>NaN</td>\n",
       "      <td>NaN</td>\n",
       "      <td>NaN</td>\n",
       "      <td>NaN</td>\n",
       "      <td>NaN</td>\n",
       "      <td>NaN</td>\n",
       "    </tr>\n",
       "    <tr>\n",
       "      <th>SleepTime</th>\n",
       "      <td>319795.0</td>\n",
       "      <td>NaN</td>\n",
       "      <td>NaN</td>\n",
       "      <td>NaN</td>\n",
       "      <td>7.097075</td>\n",
       "      <td>1.436007</td>\n",
       "      <td>1.0</td>\n",
       "      <td>6.0</td>\n",
       "      <td>7.0</td>\n",
       "      <td>8.0</td>\n",
       "      <td>24.0</td>\n",
       "    </tr>\n",
       "    <tr>\n",
       "      <th>Asthma</th>\n",
       "      <td>319795</td>\n",
       "      <td>2</td>\n",
       "      <td>No</td>\n",
       "      <td>276923</td>\n",
       "      <td>NaN</td>\n",
       "      <td>NaN</td>\n",
       "      <td>NaN</td>\n",
       "      <td>NaN</td>\n",
       "      <td>NaN</td>\n",
       "      <td>NaN</td>\n",
       "      <td>NaN</td>\n",
       "    </tr>\n",
       "    <tr>\n",
       "      <th>KidneyDisease</th>\n",
       "      <td>319795</td>\n",
       "      <td>2</td>\n",
       "      <td>No</td>\n",
       "      <td>308016</td>\n",
       "      <td>NaN</td>\n",
       "      <td>NaN</td>\n",
       "      <td>NaN</td>\n",
       "      <td>NaN</td>\n",
       "      <td>NaN</td>\n",
       "      <td>NaN</td>\n",
       "      <td>NaN</td>\n",
       "    </tr>\n",
       "    <tr>\n",
       "      <th>SkinCancer</th>\n",
       "      <td>319795</td>\n",
       "      <td>2</td>\n",
       "      <td>No</td>\n",
       "      <td>289976</td>\n",
       "      <td>NaN</td>\n",
       "      <td>NaN</td>\n",
       "      <td>NaN</td>\n",
       "      <td>NaN</td>\n",
       "      <td>NaN</td>\n",
       "      <td>NaN</td>\n",
       "      <td>NaN</td>\n",
       "    </tr>\n",
       "  </tbody>\n",
       "</table>\n",
       "</div>"
      ]
     },
     "execution_count": 400,
     "metadata": {},
     "output_type": "execute_result"
    }
   ],
   "execution_count": 400
  },
  {
   "metadata": {
    "ExecuteTime": {
     "end_time": "2024-11-17T08:32:51.065952Z",
     "start_time": "2024-11-17T08:32:50.613534Z"
    }
   },
   "cell_type": "code",
   "source": "df.describe(include='O')",
   "id": "1894b6f692102c59",
   "outputs": [
    {
     "data": {
      "text/plain": [
       "       HeartDisease Smoking AlcoholDrinking  Stroke DiffWalking     Sex  \\\n",
       "count        319795  319795          319795  319795      319795  319795   \n",
       "unique            2       2               2       2           2       2   \n",
       "top              No      No              No      No          No  Female   \n",
       "freq         292422  187887          298018  307726      275385  167805   \n",
       "\n",
       "       AgeCategory    Race Diabetic PhysicalActivity  GenHealth  Asthma  \\\n",
       "count       319795  319795   319795           319795     319795  319795   \n",
       "unique          13       6        4                2          5       2   \n",
       "top          65-69   White       No              Yes  Very good      No   \n",
       "freq         34151  245212   269653           247957     113858  276923   \n",
       "\n",
       "       KidneyDisease SkinCancer  \n",
       "count         319795     319795  \n",
       "unique             2          2  \n",
       "top               No         No  \n",
       "freq          308016     289976  "
      ],
      "text/html": [
       "<div>\n",
       "<style scoped>\n",
       "    .dataframe tbody tr th:only-of-type {\n",
       "        vertical-align: middle;\n",
       "    }\n",
       "\n",
       "    .dataframe tbody tr th {\n",
       "        vertical-align: top;\n",
       "    }\n",
       "\n",
       "    .dataframe thead th {\n",
       "        text-align: right;\n",
       "    }\n",
       "</style>\n",
       "<table border=\"1\" class=\"dataframe\">\n",
       "  <thead>\n",
       "    <tr style=\"text-align: right;\">\n",
       "      <th></th>\n",
       "      <th>HeartDisease</th>\n",
       "      <th>Smoking</th>\n",
       "      <th>AlcoholDrinking</th>\n",
       "      <th>Stroke</th>\n",
       "      <th>DiffWalking</th>\n",
       "      <th>Sex</th>\n",
       "      <th>AgeCategory</th>\n",
       "      <th>Race</th>\n",
       "      <th>Diabetic</th>\n",
       "      <th>PhysicalActivity</th>\n",
       "      <th>GenHealth</th>\n",
       "      <th>Asthma</th>\n",
       "      <th>KidneyDisease</th>\n",
       "      <th>SkinCancer</th>\n",
       "    </tr>\n",
       "  </thead>\n",
       "  <tbody>\n",
       "    <tr>\n",
       "      <th>count</th>\n",
       "      <td>319795</td>\n",
       "      <td>319795</td>\n",
       "      <td>319795</td>\n",
       "      <td>319795</td>\n",
       "      <td>319795</td>\n",
       "      <td>319795</td>\n",
       "      <td>319795</td>\n",
       "      <td>319795</td>\n",
       "      <td>319795</td>\n",
       "      <td>319795</td>\n",
       "      <td>319795</td>\n",
       "      <td>319795</td>\n",
       "      <td>319795</td>\n",
       "      <td>319795</td>\n",
       "    </tr>\n",
       "    <tr>\n",
       "      <th>unique</th>\n",
       "      <td>2</td>\n",
       "      <td>2</td>\n",
       "      <td>2</td>\n",
       "      <td>2</td>\n",
       "      <td>2</td>\n",
       "      <td>2</td>\n",
       "      <td>13</td>\n",
       "      <td>6</td>\n",
       "      <td>4</td>\n",
       "      <td>2</td>\n",
       "      <td>5</td>\n",
       "      <td>2</td>\n",
       "      <td>2</td>\n",
       "      <td>2</td>\n",
       "    </tr>\n",
       "    <tr>\n",
       "      <th>top</th>\n",
       "      <td>No</td>\n",
       "      <td>No</td>\n",
       "      <td>No</td>\n",
       "      <td>No</td>\n",
       "      <td>No</td>\n",
       "      <td>Female</td>\n",
       "      <td>65-69</td>\n",
       "      <td>White</td>\n",
       "      <td>No</td>\n",
       "      <td>Yes</td>\n",
       "      <td>Very good</td>\n",
       "      <td>No</td>\n",
       "      <td>No</td>\n",
       "      <td>No</td>\n",
       "    </tr>\n",
       "    <tr>\n",
       "      <th>freq</th>\n",
       "      <td>292422</td>\n",
       "      <td>187887</td>\n",
       "      <td>298018</td>\n",
       "      <td>307726</td>\n",
       "      <td>275385</td>\n",
       "      <td>167805</td>\n",
       "      <td>34151</td>\n",
       "      <td>245212</td>\n",
       "      <td>269653</td>\n",
       "      <td>247957</td>\n",
       "      <td>113858</td>\n",
       "      <td>276923</td>\n",
       "      <td>308016</td>\n",
       "      <td>289976</td>\n",
       "    </tr>\n",
       "  </tbody>\n",
       "</table>\n",
       "</div>"
      ]
     },
     "execution_count": 401,
     "metadata": {},
     "output_type": "execute_result"
    }
   ],
   "execution_count": 401
  },
  {
   "metadata": {
    "ExecuteTime": {
     "end_time": "2024-11-17T08:32:51.597201Z",
     "start_time": "2024-11-17T08:32:51.142089Z"
    }
   },
   "cell_type": "code",
   "source": "df.describe(include='O').T",
   "id": "7f769715def11b85",
   "outputs": [
    {
     "data": {
      "text/plain": [
       "                   count unique        top    freq\n",
       "HeartDisease      319795      2         No  292422\n",
       "Smoking           319795      2         No  187887\n",
       "AlcoholDrinking   319795      2         No  298018\n",
       "Stroke            319795      2         No  307726\n",
       "DiffWalking       319795      2         No  275385\n",
       "Sex               319795      2     Female  167805\n",
       "AgeCategory       319795     13      65-69   34151\n",
       "Race              319795      6      White  245212\n",
       "Diabetic          319795      4         No  269653\n",
       "PhysicalActivity  319795      2        Yes  247957\n",
       "GenHealth         319795      5  Very good  113858\n",
       "Asthma            319795      2         No  276923\n",
       "KidneyDisease     319795      2         No  308016\n",
       "SkinCancer        319795      2         No  289976"
      ],
      "text/html": [
       "<div>\n",
       "<style scoped>\n",
       "    .dataframe tbody tr th:only-of-type {\n",
       "        vertical-align: middle;\n",
       "    }\n",
       "\n",
       "    .dataframe tbody tr th {\n",
       "        vertical-align: top;\n",
       "    }\n",
       "\n",
       "    .dataframe thead th {\n",
       "        text-align: right;\n",
       "    }\n",
       "</style>\n",
       "<table border=\"1\" class=\"dataframe\">\n",
       "  <thead>\n",
       "    <tr style=\"text-align: right;\">\n",
       "      <th></th>\n",
       "      <th>count</th>\n",
       "      <th>unique</th>\n",
       "      <th>top</th>\n",
       "      <th>freq</th>\n",
       "    </tr>\n",
       "  </thead>\n",
       "  <tbody>\n",
       "    <tr>\n",
       "      <th>HeartDisease</th>\n",
       "      <td>319795</td>\n",
       "      <td>2</td>\n",
       "      <td>No</td>\n",
       "      <td>292422</td>\n",
       "    </tr>\n",
       "    <tr>\n",
       "      <th>Smoking</th>\n",
       "      <td>319795</td>\n",
       "      <td>2</td>\n",
       "      <td>No</td>\n",
       "      <td>187887</td>\n",
       "    </tr>\n",
       "    <tr>\n",
       "      <th>AlcoholDrinking</th>\n",
       "      <td>319795</td>\n",
       "      <td>2</td>\n",
       "      <td>No</td>\n",
       "      <td>298018</td>\n",
       "    </tr>\n",
       "    <tr>\n",
       "      <th>Stroke</th>\n",
       "      <td>319795</td>\n",
       "      <td>2</td>\n",
       "      <td>No</td>\n",
       "      <td>307726</td>\n",
       "    </tr>\n",
       "    <tr>\n",
       "      <th>DiffWalking</th>\n",
       "      <td>319795</td>\n",
       "      <td>2</td>\n",
       "      <td>No</td>\n",
       "      <td>275385</td>\n",
       "    </tr>\n",
       "    <tr>\n",
       "      <th>Sex</th>\n",
       "      <td>319795</td>\n",
       "      <td>2</td>\n",
       "      <td>Female</td>\n",
       "      <td>167805</td>\n",
       "    </tr>\n",
       "    <tr>\n",
       "      <th>AgeCategory</th>\n",
       "      <td>319795</td>\n",
       "      <td>13</td>\n",
       "      <td>65-69</td>\n",
       "      <td>34151</td>\n",
       "    </tr>\n",
       "    <tr>\n",
       "      <th>Race</th>\n",
       "      <td>319795</td>\n",
       "      <td>6</td>\n",
       "      <td>White</td>\n",
       "      <td>245212</td>\n",
       "    </tr>\n",
       "    <tr>\n",
       "      <th>Diabetic</th>\n",
       "      <td>319795</td>\n",
       "      <td>4</td>\n",
       "      <td>No</td>\n",
       "      <td>269653</td>\n",
       "    </tr>\n",
       "    <tr>\n",
       "      <th>PhysicalActivity</th>\n",
       "      <td>319795</td>\n",
       "      <td>2</td>\n",
       "      <td>Yes</td>\n",
       "      <td>247957</td>\n",
       "    </tr>\n",
       "    <tr>\n",
       "      <th>GenHealth</th>\n",
       "      <td>319795</td>\n",
       "      <td>5</td>\n",
       "      <td>Very good</td>\n",
       "      <td>113858</td>\n",
       "    </tr>\n",
       "    <tr>\n",
       "      <th>Asthma</th>\n",
       "      <td>319795</td>\n",
       "      <td>2</td>\n",
       "      <td>No</td>\n",
       "      <td>276923</td>\n",
       "    </tr>\n",
       "    <tr>\n",
       "      <th>KidneyDisease</th>\n",
       "      <td>319795</td>\n",
       "      <td>2</td>\n",
       "      <td>No</td>\n",
       "      <td>308016</td>\n",
       "    </tr>\n",
       "    <tr>\n",
       "      <th>SkinCancer</th>\n",
       "      <td>319795</td>\n",
       "      <td>2</td>\n",
       "      <td>No</td>\n",
       "      <td>289976</td>\n",
       "    </tr>\n",
       "  </tbody>\n",
       "</table>\n",
       "</div>"
      ]
     },
     "execution_count": 402,
     "metadata": {},
     "output_type": "execute_result"
    }
   ],
   "execution_count": 402
  },
  {
   "cell_type": "markdown",
   "id": "25d21a69",
   "metadata": {
    "id": "25d21a69"
   },
   "source": [
    "### 5. Check the percentage of missing values in each column of the data frame. Drop the missing values if there are any."
   ]
  },
  {
   "cell_type": "code",
   "id": "20d33888",
   "metadata": {
    "id": "20d33888",
    "ExecuteTime": {
     "end_time": "2024-11-17T08:32:51.800322Z",
     "start_time": "2024-11-17T08:32:51.673351Z"
    }
   },
   "source": [
    "# Check for missing values\n",
    "missing_values = df.isnull().sum() / len(df) * 100\n",
    "print(missing_values)\n",
    "\n",
    "\n"
   ],
   "outputs": [
    {
     "name": "stdout",
     "output_type": "stream",
     "text": [
      "HeartDisease        0.0\n",
      "BMI                 0.0\n",
      "Smoking             0.0\n",
      "AlcoholDrinking     0.0\n",
      "Stroke              0.0\n",
      "PhysicalHealth      0.0\n",
      "MentalHealth        0.0\n",
      "DiffWalking         0.0\n",
      "Sex                 0.0\n",
      "AgeCategory         0.0\n",
      "Race                0.0\n",
      "Diabetic            0.0\n",
      "PhysicalActivity    0.0\n",
      "GenHealth           0.0\n",
      "SleepTime           0.0\n",
      "Asthma              0.0\n",
      "KidneyDisease       0.0\n",
      "SkinCancer          0.0\n",
      "dtype: float64\n"
     ]
    }
   ],
   "execution_count": 403
  },
  {
   "metadata": {
    "ExecuteTime": {
     "end_time": "2024-11-17T08:32:52.046633Z",
     "start_time": "2024-11-17T08:32:51.902305Z"
    }
   },
   "cell_type": "code",
   "source": [
    "# Drop rows with missing values if any\n",
    "df = df.dropna()\n",
    "df.shape\n"
   ],
   "id": "6f7adf3565f3637",
   "outputs": [
    {
     "data": {
      "text/plain": [
       "(319795, 18)"
      ]
     },
     "execution_count": 404,
     "metadata": {},
     "output_type": "execute_result"
    }
   ],
   "execution_count": 404
  },
  {
   "metadata": {},
   "cell_type": "markdown",
   "source": "#Here there is no change in Shape",
   "id": "a20440704822dd3d"
  },
  {
   "cell_type": "markdown",
   "id": "030b4016",
   "metadata": {
    "id": "030b4016"
   },
   "source": [
    "### 6. Check if there are any duplicate rows. If any drop them and check the shape of the dataframe after dropping duplicates."
   ]
  },
  {
   "metadata": {
    "ExecuteTime": {
     "end_time": "2024-11-17T08:32:52.817362Z",
     "start_time": "2024-11-17T08:32:52.073597Z"
    }
   },
   "cell_type": "code",
   "source": [
    "df = pd.read_csv(data)\n",
    "len(df[df.duplicated()])\n"
   ],
   "id": "d9c5a519da3de21",
   "outputs": [
    {
     "data": {
      "text/plain": [
       "18078"
      ]
     },
     "execution_count": 405,
     "metadata": {},
     "output_type": "execute_result"
    }
   ],
   "execution_count": 405
  },
  {
   "metadata": {
    "ExecuteTime": {
     "end_time": "2024-11-17T08:32:53.070072Z",
     "start_time": "2024-11-17T08:32:52.857750Z"
    }
   },
   "cell_type": "code",
   "source": [
    "# Alternate Solution\n",
    "# Check for duplicate rows\n",
    "duplicates = df.duplicated().sum()\n",
    "print(f\"Number of duplicate rows: {duplicates}\")\n"
   ],
   "id": "220fa094887ad8b5",
   "outputs": [
    {
     "name": "stdout",
     "output_type": "stream",
     "text": [
      "Number of duplicate rows: 18078\n"
     ]
    }
   ],
   "execution_count": 406
  },
  {
   "cell_type": "code",
   "id": "11f42ddc",
   "metadata": {
    "id": "11f42ddc",
    "ExecuteTime": {
     "end_time": "2024-11-17T08:32:53.367570Z",
     "start_time": "2024-11-17T08:32:53.113711Z"
    }
   },
   "source": [
    "# Drop duplicate rows\n",
    "df = df.drop_duplicates()\n",
    "#df.drop_duplicates(inplace=True)"
   ],
   "outputs": [],
   "execution_count": 407
  },
  {
   "metadata": {
    "ExecuteTime": {
     "end_time": "2024-11-17T08:32:53.418840Z",
     "start_time": "2024-11-17T08:32:53.410080Z"
    }
   },
   "cell_type": "code",
   "source": [
    "#Shape after dropping the duplicates\n",
    "df.shape\n"
   ],
   "id": "602e773ee6af9a69",
   "outputs": [
    {
     "data": {
      "text/plain": [
       "(301717, 18)"
      ]
     },
     "execution_count": 408,
     "metadata": {},
     "output_type": "execute_result"
    }
   ],
   "execution_count": 408
  },
  {
   "cell_type": "markdown",
   "id": "817d0f41",
   "metadata": {
    "id": "817d0f41"
   },
   "source": [
    "### 7. Check the distribution of the target variable (i.e. 'HeartDisease') and write your observations."
   ]
  },
  {
   "cell_type": "code",
   "id": "62d1e2b3",
   "metadata": {
    "id": "62d1e2b3",
    "ExecuteTime": {
     "end_time": "2024-11-17T08:32:53.954545Z",
     "start_time": "2024-11-17T08:32:53.462637Z"
    }
   },
   "source": [
    "# Distribution of target variable 'HeartDisease'\n",
    "sns.countplot(x='HeartDisease', data=df)\n",
    "plt.title('Heart Disease Distribution')\n",
    "plt.show()\n"
   ],
   "outputs": [
    {
     "data": {
      "text/plain": [
       "<Figure size 640x480 with 1 Axes>"
      ],
      "image/png": "[encoded data removed]"
     },
     "metadata": {},
     "output_type": "display_data"
    }
   ],
   "execution_count": 409
  },
  {
   "metadata": {
    "ExecuteTime": {
     "end_time": "2024-11-17T08:32:54.094364Z",
     "start_time": "2024-11-17T08:32:54.000565Z"
    }
   },
   "cell_type": "code",
   "source": [
    "# Alternate Solution\n",
    "df['HeartDisease'].value_counts().plot(kind='pie', autopct='%1.0f%%')"
   ],
   "id": "13f30d00cf161723",
   "outputs": [
    {
     "data": {
      "text/plain": [
       "<Axes: ylabel='count'>"
      ]
     },
     "execution_count": 410,
     "metadata": {},
     "output_type": "execute_result"
    },
    {
     "data": {
      "text/plain": [
       "<Figure size 640x480 with 1 Axes>"
      ],
      "image/png": "[encoded data removed]"
     },
     "metadata": {},
     "output_type": "display_data"
    }
   ],
   "execution_count": 410
  },
  {
   "cell_type": "markdown",
   "id": "1cd33e88",
   "metadata": {
    "id": "1cd33e88"
   },
   "source": [
    "### 8. Visualize the distribution of the target column 'Heart disease' with respect to various categorical features and write your observations."
   ]
  },
  {
   "metadata": {
    "ExecuteTime": {
     "end_time": "2024-11-17T08:32:54.608281Z",
     "start_time": "2024-11-17T08:32:54.138143Z"
    }
   },
   "cell_type": "code",
   "source": [
    "# Categorical Values/ Features in the DataSet\n",
    "#categorical_features = []\n",
    "#categorical_features = df.select_dtypes(include='object')\n",
    "df = pd.read_csv(data)\n",
    "categorical_features = df.select_dtypes(include=[np.object_])"
   ],
   "id": "fc846b79884dbc4c",
   "outputs": [],
   "execution_count": 411
  },
  {
   "metadata": {
    "ExecuteTime": {
     "end_time": "2024-11-17T08:32:54.705601Z",
     "start_time": "2024-11-17T08:32:54.696497Z"
    }
   },
   "cell_type": "code",
   "source": "categorical_features.columns",
   "id": "fbc2f081953eb042",
   "outputs": [
    {
     "data": {
      "text/plain": [
       "Index(['HeartDisease', 'Smoking', 'AlcoholDrinking', 'Stroke', 'DiffWalking',\n",
       "       'Sex', 'AgeCategory', 'Race', 'Diabetic', 'PhysicalActivity',\n",
       "       'GenHealth', 'Asthma', 'KidneyDisease', 'SkinCancer'],\n",
       "      dtype='object')"
      ]
     },
     "execution_count": 412,
     "metadata": {},
     "output_type": "execute_result"
    }
   ],
   "execution_count": 412
  },
  {
   "metadata": {
    "ExecuteTime": {
     "end_time": "2024-11-17T08:32:54.791080Z",
     "start_time": "2024-11-17T08:32:54.757348Z"
    }
   },
   "cell_type": "code",
   "source": [
    "# Categorical features in the dataset\n",
    "categorical_features = df.select_dtypes(include='O')\n",
    "print(categorical_features.columns)"
   ],
   "id": "9a48ad5e39d795a1",
   "outputs": [
    {
     "name": "stdout",
     "output_type": "stream",
     "text": [
      "Index(['HeartDisease', 'Smoking', 'AlcoholDrinking', 'Stroke', 'DiffWalking',\n",
      "       'Sex', 'AgeCategory', 'Race', 'Diabetic', 'PhysicalActivity',\n",
      "       'GenHealth', 'Asthma', 'KidneyDisease', 'SkinCancer'],\n",
      "      dtype='object')\n"
     ]
    }
   ],
   "execution_count": 413
  },
  {
   "metadata": {
    "ExecuteTime": {
     "end_time": "2024-11-17T08:33:06.662195Z",
     "start_time": "2024-11-17T08:32:54.836315Z"
    }
   },
   "cell_type": "code",
   "source": [
    "# Plot Distributions\n",
    "i = 1\n",
    "plt.figure(figsize=(30, 25))\n",
    "for feature in categorical_features:\n",
    "    plt.subplot(6, 3, i)\n",
    "    #sns.countplot(df[feature], hue=categorical_features[feature])\n",
    "    sns.countplot(x=feature, hue='HeartDisease', data=df)\n",
    "    i = i + 1\n",
    "\n",
    "    \n"
   ],
   "id": "4b221998ded08ad8",
   "outputs": [
    {
     "data": {
      "text/plain": [
       "<Figure size 3000x2500 with 14 Axes>"
      ],
      "image/png": "[encoded data removed]"
     },
     "metadata": {},
     "output_type": "display_data"
    }
   ],
   "execution_count": 414
  },
  {
   "cell_type": "code",
   "id": "888be5c5",
   "metadata": {
    "id": "888be5c5",
    "ExecuteTime": {
     "end_time": "2024-11-17T08:33:09.067497Z",
     "start_time": "2024-11-17T08:33:06.707625Z"
    }
   },
   "source": [
    "# Alternatively Visualizing the distribution of 'HeartDisease' across various categorical features\n",
    "sns.countplot(x='Smoking', hue='HeartDisease', data=df)\n",
    "plt.title('Heart Disease vs Smoking')\n",
    "plt.show()\n",
    "\n",
    "sns.countplot(x='Sex', hue='HeartDisease', data=df)\n",
    "plt.title('Heart Disease vs Sex')\n",
    "plt.show()\n",
    "\n",
    "sns.countplot(x='PhysicalActivity', hue='HeartDisease', data=df)\n",
    "plt.title('Heart Disease vs Physical Activity')\n",
    "plt.show()\n"
   ],
   "outputs": [
    {
     "data": {
      "text/plain": [
       "<Figure size 640x480 with 1 Axes>"
      ],
      "image/png": "[encoded data removed]"
     },
     "metadata": {},
     "output_type": "display_data"
    },
    {
     "data": {
      "text/plain": [
       "<Figure size 640x480 with 1 Axes>"
      ],
      "image/png": "[encoded data removed]"
     },
     "metadata": {},
     "output_type": "display_data"
    },
    {
     "data": {
      "text/plain": [
       "<Figure size 640x480 with 1 Axes>"
      ],
      "image/png": "[encoded data removed]"
     },
     "metadata": {},
     "output_type": "display_data"
    }
   ],
   "execution_count": 415
  },
  {
   "cell_type": "markdown",
   "id": "11af76b7",
   "metadata": {
    "id": "11af76b7"
   },
   "source": [
    "### 9. Check the unique categories in the column 'Diabetic'. Replace 'Yes (during pregnancy)' as 'Yes' and 'No, borderline diabetes' as 'No'."
   ]
  },
  {
   "metadata": {
    "ExecuteTime": {
     "end_time": "2024-11-17T08:33:09.132571Z",
     "start_time": "2024-11-17T08:33:09.115288Z"
    }
   },
   "cell_type": "code",
   "source": [
    "# Unique Column with 'Diabetic\"\n",
    "df.Diabetic.unique()\n"
   ],
   "id": "5c871e80dce32191",
   "outputs": [
    {
     "data": {
      "text/plain": [
       "array(['Yes', 'No', 'No, borderline diabetes', 'Yes (during pregnancy)'],\n",
       "      dtype=object)"
      ]
     },
     "execution_count": 416,
     "metadata": {},
     "output_type": "execute_result"
    }
   ],
   "execution_count": 416
  },
  {
   "metadata": {
    "ExecuteTime": {
     "end_time": "2024-11-17T08:33:09.216363Z",
     "start_time": "2024-11-17T08:33:09.180294Z"
    }
   },
   "cell_type": "code",
   "source": "df.Diabetic = df.Diabetic.replace({'Yes (during pregnancy)': 'Yes', 'No, borderline diabetes': 'No'})",
   "id": "7575a5ae8a3eadf4",
   "outputs": [],
   "execution_count": 417
  },
  {
   "metadata": {
    "ExecuteTime": {
     "end_time": "2024-11-17T08:33:09.273031Z",
     "start_time": "2024-11-17T08:33:09.265164Z"
    }
   },
   "cell_type": "code",
   "source": "df.Diabetic",
   "id": "c756eefc0b374c40",
   "outputs": [
    {
     "data": {
      "text/plain": [
       "0         Yes\n",
       "1          No\n",
       "2         Yes\n",
       "3          No\n",
       "4          No\n",
       "         ... \n",
       "319790    Yes\n",
       "319791     No\n",
       "319792     No\n",
       "319793     No\n",
       "319794     No\n",
       "Name: Diabetic, Length: 319795, dtype: object"
      ]
     },
     "execution_count": 418,
     "metadata": {},
     "output_type": "execute_result"
    }
   ],
   "execution_count": 418
  },
  {
   "metadata": {
    "ExecuteTime": {
     "end_time": "2024-11-17T08:33:09.384519Z",
     "start_time": "2024-11-17T08:33:09.355855Z"
    }
   },
   "cell_type": "code",
   "source": "df.Diabetic.value_counts()",
   "id": "71c6ba9f4adaa9ff",
   "outputs": [
    {
     "data": {
      "text/plain": [
       "Diabetic\n",
       "No     276434\n",
       "Yes     43361\n",
       "Name: count, dtype: int64"
      ]
     },
     "execution_count": 419,
     "metadata": {},
     "output_type": "execute_result"
    }
   ],
   "execution_count": 419
  },
  {
   "cell_type": "code",
   "id": "86fccebe",
   "metadata": {
    "id": "86fccebe",
    "ExecuteTime": {
     "end_time": "2024-11-17T08:33:10.000939Z",
     "start_time": "2024-11-17T08:33:09.527226Z"
    }
   },
   "source": [
    "# Check unique values in the 'Diabetic' column\n",
    "df = pd.read_csv(data)\n",
    "\n",
    "print(df['Diabetic'].unique())\n",
    "\n",
    "# Replace 'Yes (during pregnancy)' with 'Yes' and 'No, borderline diabetes' with 'No'\n",
    "df['Diabetic'] = df['Diabetic'].replace({'Yes (during pregnancy)': 'Yes', 'No, borderline diabetes': 'No'})\n"
   ],
   "outputs": [
    {
     "name": "stdout",
     "output_type": "stream",
     "text": [
      "['Yes' 'No' 'No, borderline diabetes' 'Yes (during pregnancy)']\n"
     ]
    }
   ],
   "execution_count": 420
  },
  {
   "metadata": {
    "ExecuteTime": {
     "end_time": "2024-11-17T08:33:10.071813Z",
     "start_time": "2024-11-17T08:33:10.042915Z"
    }
   },
   "cell_type": "code",
   "source": "df['Diabetic'].value_counts()",
   "id": "72025863248e31d2",
   "outputs": [
    {
     "data": {
      "text/plain": [
       "Diabetic\n",
       "No     276434\n",
       "Yes     43361\n",
       "Name: count, dtype: int64"
      ]
     },
     "execution_count": 421,
     "metadata": {},
     "output_type": "execute_result"
    }
   ],
   "execution_count": 421
  },
  {
   "cell_type": "markdown",
   "id": "e204cd08",
   "metadata": {
    "id": "e204cd08"
   },
   "source": [
    "### 10. For the target column 'HeartDiease', Replace 'No' as 0 and 'Yes' as 1. "
   ]
  },
  {
   "metadata": {
    "ExecuteTime": {
     "end_time": "2024-11-17T08:33:10.604486Z",
     "start_time": "2024-11-17T08:33:10.165133Z"
    }
   },
   "cell_type": "code",
   "source": [
    "df = pd.read_csv(data)\n",
    "\n",
    "df.HeartDisease.unique()"
   ],
   "id": "723622bc7eae3517",
   "outputs": [
    {
     "data": {
      "text/plain": [
       "array(['No', 'Yes'], dtype=object)"
      ]
     },
     "execution_count": 422,
     "metadata": {},
     "output_type": "execute_result"
    }
   ],
   "execution_count": 422
  },
  {
   "metadata": {
    "ExecuteTime": {
     "end_time": "2024-11-17T08:33:10.730559Z",
     "start_time": "2024-11-17T08:33:10.641141Z"
    }
   },
   "cell_type": "code",
   "source": "df.HeartDisease = df.HeartDisease.replace({'No': 0, 'Yes': 1})",
   "id": "1b61c2f1b6a8842",
   "outputs": [],
   "execution_count": 423
  },
  {
   "metadata": {
    "ExecuteTime": {
     "end_time": "2024-11-17T08:33:11.193315Z",
     "start_time": "2024-11-17T08:33:10.771802Z"
    }
   },
   "cell_type": "code",
   "source": "df.value_counts()\n",
   "id": "bea207437789a94b",
   "outputs": [
    {
     "data": {
      "text/plain": [
       "HeartDisease  BMI    Smoking  AlcoholDrinking  Stroke  PhysicalHealth  MentalHealth  DiffWalking  Sex     AgeCategory  Race      Diabetic  PhysicalActivity  GenHealth  SleepTime  Asthma  KidneyDisease  SkinCancer\n",
       "0             27.44  No       No               No      0.0             0.0           No           Female  65-69        White     No        Yes               Very good  7.0        No      No             No            16\n",
       "              26.63  No       No               No      0.0             0.0           No           Female  65-69        White     No        Yes               Very good  8.0        No      No             No            15\n",
       "              24.41  No       No               No      0.0             0.0           No           Male    55-59        White     No        Yes               Excellent  7.0        No      No             No            14\n",
       "                                                                                                          18-24        White     No        Yes               Excellent  7.0        No      No             No            13\n",
       "              27.46  No       No               No      0.0             0.0           No           Female  65-69        White     No        Yes               Very good  7.0        No      No             No            13\n",
       "                                                                                                                                                                                                                        ..\n",
       "              25.69  No       Yes              No      0.0             5.0           No           Female  45-49        White     No        Yes               Good       8.0        No      No             No             1\n",
       "                                                                                                          50-54        White     No        No                Very good  6.0        No      No             No             1\n",
       "                                                                       6.0           No           Female  25-29        Hispanic  No        Yes               Very good  7.0        No      No             No             1\n",
       "                                                                       10.0          No           Female  30-34        White     No        Yes               Excellent  9.0        No      No             No             1\n",
       "1             83.33  No       No               Yes     0.0             0.0           No           Male    18-24        Asian     No        No                Excellent  10.0       Yes     No             No             1\n",
       "Name: count, Length: 301717, dtype: int64"
      ]
     },
     "execution_count": 424,
     "metadata": {},
     "output_type": "execute_result"
    }
   ],
   "execution_count": 424
  },
  {
   "metadata": {
    "ExecuteTime": {
     "end_time": "2024-11-17T08:33:11.286846Z",
     "start_time": "2024-11-17T08:33:11.278957Z"
    }
   },
   "cell_type": "code",
   "source": "df.HeartDisease.unique",
   "id": "e6d0f74a1b8080fc",
   "outputs": [
    {
     "data": {
      "text/plain": [
       "<bound method Series.unique of 0         0\n",
       "1         0\n",
       "2         0\n",
       "3         0\n",
       "4         0\n",
       "         ..\n",
       "319790    1\n",
       "319791    0\n",
       "319792    0\n",
       "319793    0\n",
       "319794    0\n",
       "Name: HeartDisease, Length: 319795, dtype: int64>"
      ]
     },
     "execution_count": 425,
     "metadata": {},
     "output_type": "execute_result"
    }
   ],
   "execution_count": 425
  },
  {
   "metadata": {
    "ExecuteTime": {
     "end_time": "2024-11-17T08:33:11.362905Z",
     "start_time": "2024-11-17T08:33:11.350327Z"
    }
   },
   "cell_type": "code",
   "source": "df.HeartDisease.value_counts()\n",
   "id": "390d33e04dfe28c8",
   "outputs": [
    {
     "data": {
      "text/plain": [
       "HeartDisease\n",
       "0    292422\n",
       "1     27373\n",
       "Name: count, dtype: int64"
      ]
     },
     "execution_count": 426,
     "metadata": {},
     "output_type": "execute_result"
    }
   ],
   "execution_count": 426
  },
  {
   "cell_type": "markdown",
   "id": "7cdb58cd",
   "metadata": {
    "id": "7cdb58cd"
   },
   "source": [
    "### 11. Label Encode the columns \"AgeCategory\", \"Race\", and \"GenHealth\". Encode the rest of the columns using dummy encoding approach."
   ]
  },
  {
   "metadata": {
    "id": "22190734",
    "ExecuteTime": {
     "end_time": "2024-11-17T08:33:11.929041Z",
     "start_time": "2024-11-17T08:33:11.504541Z"
    }
   },
   "cell_type": "code",
   "source": [
    "# Replace 'No' with 0 and 'Yes' with 1 in the target column 'HeartDisease'\n",
    "#df['HeartDisease'] = df['HeartDisease'].map({'No': 0, 'Yes': 1})\n",
    "df = pd.read_csv(data)\n",
    "# Alternatively\n",
    "object_type_variable = [i for i in df[['AgeCategory', 'Race', 'GenHealth']] if df.dtypes[i] == object]\n",
    "object_type_variable\n"
   ],
   "id": "22190734",
   "outputs": [
    {
     "data": {
      "text/plain": [
       "['AgeCategory', 'Race', 'GenHealth']"
      ]
     },
     "execution_count": 427,
     "metadata": {},
     "output_type": "execute_result"
    }
   ],
   "execution_count": 427
  },
  {
   "metadata": {
    "ExecuteTime": {
     "end_time": "2024-11-17T08:33:11.972140Z",
     "start_time": "2024-11-17T08:33:11.967353Z"
    }
   },
   "cell_type": "code",
   "source": [
    "from sklearn.preprocessing import OneHotEncoder, LabelEncoder\n",
    "le = LabelEncoder()\n",
    "\n",
    "def encoder(df):\n",
    "    for i in object_type_variable:\n",
    "        q = le.fit_transform(df[i].astype(str))\n",
    "        df[i] = q\n",
    "        df[i] = df[i].astype(int)\n",
    "        \n"
   ],
   "id": "97337bdfd10c97d8",
   "outputs": [],
   "execution_count": 428
  },
  {
   "metadata": {
    "ExecuteTime": {
     "end_time": "2024-11-17T08:33:12.176574Z",
     "start_time": "2024-11-17T08:33:11.992557Z"
    }
   },
   "cell_type": "code",
   "source": "encoder(df)\n",
   "id": "488db0897849d10d",
   "outputs": [],
   "execution_count": 429
  },
  {
   "metadata": {
    "ExecuteTime": {
     "end_time": "2024-11-17T08:33:12.479434Z",
     "start_time": "2024-11-17T08:33:12.222516Z"
    }
   },
   "cell_type": "code",
   "source": [
    "df = pd.get_dummies(df, drop_first=True)\n",
    "df.head()\n"
   ],
   "id": "6c3acf5c63f1977a",
   "outputs": [
    {
     "data": {
      "text/plain": [
       "     BMI  PhysicalHealth  MentalHealth  AgeCategory  Race  GenHealth  \\\n",
       "0  16.60             3.0          30.0            7     5          4   \n",
       "1  20.34             0.0           0.0           12     5          4   \n",
       "2  26.58            20.0          30.0            9     5          1   \n",
       "3  24.21             0.0           0.0           11     5          2   \n",
       "4  23.71            28.0           0.0            4     5          4   \n",
       "\n",
       "   SleepTime  HeartDisease_Yes  Smoking_Yes  AlcoholDrinking_Yes  Stroke_Yes  \\\n",
       "0        5.0             False         True                False       False   \n",
       "1        7.0             False        False                False        True   \n",
       "2        8.0             False         True                False       False   \n",
       "3        6.0             False        False                False       False   \n",
       "4        8.0             False        False                False       False   \n",
       "\n",
       "   DiffWalking_Yes  Sex_Male  Diabetic_No, borderline diabetes  Diabetic_Yes  \\\n",
       "0            False     False                             False          True   \n",
       "1            False     False                             False         False   \n",
       "2            False      True                             False          True   \n",
       "3            False     False                             False         False   \n",
       "4             True     False                             False         False   \n",
       "\n",
       "   Diabetic_Yes (during pregnancy)  PhysicalActivity_Yes  Asthma_Yes  \\\n",
       "0                            False                  True        True   \n",
       "1                            False                  True       False   \n",
       "2                            False                  True        True   \n",
       "3                            False                 False       False   \n",
       "4                            False                  True       False   \n",
       "\n",
       "   KidneyDisease_Yes  SkinCancer_Yes  \n",
       "0              False            True  \n",
       "1              False           False  \n",
       "2              False           False  \n",
       "3              False            True  \n",
       "4              False           False  "
      ],
      "text/html": [
       "<div>\n",
       "<style scoped>\n",
       "    .dataframe tbody tr th:only-of-type {\n",
       "        vertical-align: middle;\n",
       "    }\n",
       "\n",
       "    .dataframe tbody tr th {\n",
       "        vertical-align: top;\n",
       "    }\n",
       "\n",
       "    .dataframe thead th {\n",
       "        text-align: right;\n",
       "    }\n",
       "</style>\n",
       "<table border=\"1\" class=\"dataframe\">\n",
       "  <thead>\n",
       "    <tr style=\"text-align: right;\">\n",
       "      <th></th>\n",
       "      <th>BMI</th>\n",
       "      <th>PhysicalHealth</th>\n",
       "      <th>MentalHealth</th>\n",
       "      <th>AgeCategory</th>\n",
       "      <th>Race</th>\n",
       "      <th>GenHealth</th>\n",
       "      <th>SleepTime</th>\n",
       "      <th>HeartDisease_Yes</th>\n",
       "      <th>Smoking_Yes</th>\n",
       "      <th>AlcoholDrinking_Yes</th>\n",
       "      <th>Stroke_Yes</th>\n",
       "      <th>DiffWalking_Yes</th>\n",
       "      <th>Sex_Male</th>\n",
       "      <th>Diabetic_No, borderline diabetes</th>\n",
       "      <th>Diabetic_Yes</th>\n",
       "      <th>Diabetic_Yes (during pregnancy)</th>\n",
       "      <th>PhysicalActivity_Yes</th>\n",
       "      <th>Asthma_Yes</th>\n",
       "      <th>KidneyDisease_Yes</th>\n",
       "      <th>SkinCancer_Yes</th>\n",
       "    </tr>\n",
       "  </thead>\n",
       "  <tbody>\n",
       "    <tr>\n",
       "      <th>0</th>\n",
       "      <td>16.60</td>\n",
       "      <td>3.0</td>\n",
       "      <td>30.0</td>\n",
       "      <td>7</td>\n",
       "      <td>5</td>\n",
       "      <td>4</td>\n",
       "      <td>5.0</td>\n",
       "      <td>False</td>\n",
       "      <td>True</td>\n",
       "      <td>False</td>\n",
       "      <td>False</td>\n",
       "      <td>False</td>\n",
       "      <td>False</td>\n",
       "      <td>False</td>\n",
       "      <td>True</td>\n",
       "      <td>False</td>\n",
       "      <td>True</td>\n",
       "      <td>True</td>\n",
       "      <td>False</td>\n",
       "      <td>True</td>\n",
       "    </tr>\n",
       "    <tr>\n",
       "      <th>1</th>\n",
       "      <td>20.34</td>\n",
       "      <td>0.0</td>\n",
       "      <td>0.0</td>\n",
       "      <td>12</td>\n",
       "      <td>5</td>\n",
       "      <td>4</td>\n",
       "      <td>7.0</td>\n",
       "      <td>False</td>\n",
       "      <td>False</td>\n",
       "      <td>False</td>\n",
       "      <td>True</td>\n",
       "      <td>False</td>\n",
       "      <td>False</td>\n",
       "      <td>False</td>\n",
       "      <td>False</td>\n",
       "      <td>False</td>\n",
       "      <td>True</td>\n",
       "      <td>False</td>\n",
       "      <td>False</td>\n",
       "      <td>False</td>\n",
       "    </tr>\n",
       "    <tr>\n",
       "      <th>2</th>\n",
       "      <td>26.58</td>\n",
       "      <td>20.0</td>\n",
       "      <td>30.0</td>\n",
       "      <td>9</td>\n",
       "      <td>5</td>\n",
       "      <td>1</td>\n",
       "      <td>8.0</td>\n",
       "      <td>False</td>\n",
       "      <td>True</td>\n",
       "      <td>False</td>\n",
       "      <td>False</td>\n",
       "      <td>False</td>\n",
       "      <td>True</td>\n",
       "      <td>False</td>\n",
       "      <td>True</td>\n",
       "      <td>False</td>\n",
       "      <td>True</td>\n",
       "      <td>True</td>\n",
       "      <td>False</td>\n",
       "      <td>False</td>\n",
       "    </tr>\n",
       "    <tr>\n",
       "      <th>3</th>\n",
       "      <td>24.21</td>\n",
       "      <td>0.0</td>\n",
       "      <td>0.0</td>\n",
       "      <td>11</td>\n",
       "      <td>5</td>\n",
       "      <td>2</td>\n",
       "      <td>6.0</td>\n",
       "      <td>False</td>\n",
       "      <td>False</td>\n",
       "      <td>False</td>\n",
       "      <td>False</td>\n",
       "      <td>False</td>\n",
       "      <td>False</td>\n",
       "      <td>False</td>\n",
       "      <td>False</td>\n",
       "      <td>False</td>\n",
       "      <td>False</td>\n",
       "      <td>False</td>\n",
       "      <td>False</td>\n",
       "      <td>True</td>\n",
       "    </tr>\n",
       "    <tr>\n",
       "      <th>4</th>\n",
       "      <td>23.71</td>\n",
       "      <td>28.0</td>\n",
       "      <td>0.0</td>\n",
       "      <td>4</td>\n",
       "      <td>5</td>\n",
       "      <td>4</td>\n",
       "      <td>8.0</td>\n",
       "      <td>False</td>\n",
       "      <td>False</td>\n",
       "      <td>False</td>\n",
       "      <td>False</td>\n",
       "      <td>True</td>\n",
       "      <td>False</td>\n",
       "      <td>False</td>\n",
       "      <td>False</td>\n",
       "      <td>False</td>\n",
       "      <td>True</td>\n",
       "      <td>False</td>\n",
       "      <td>False</td>\n",
       "      <td>False</td>\n",
       "    </tr>\n",
       "  </tbody>\n",
       "</table>\n",
       "</div>"
      ]
     },
     "execution_count": 430,
     "metadata": {},
     "output_type": "execute_result"
    }
   ],
   "execution_count": 430
  },
  {
   "cell_type": "code",
   "id": "707747be",
   "metadata": {
    "id": "707747be",
    "ExecuteTime": {
     "end_time": "2024-11-17T08:33:13.358661Z",
     "start_time": "2024-11-17T08:33:12.560813Z"
    }
   },
   "source": [
    "# Alternatively Label encoding for categorical columns\n",
    "df = pd.read_csv(data)\n",
    "\n",
    "df['AgeCategory'] = df['AgeCategory'].astype('category').cat.codes\n",
    "df['Race'] = df['Race'].astype('category').cat.codes\n",
    "df['GenHealth'] = df['GenHealth'].astype('category').cat.codes\n",
    "\n",
    "# Dummy encoding for the rest of the columns\n",
    "df = pd.get_dummies(df, drop_first=True)\n"
   ],
   "outputs": [],
   "execution_count": 431
  },
  {
   "metadata": {
    "ExecuteTime": {
     "end_time": "2024-11-17T08:33:13.432647Z",
     "start_time": "2024-11-17T08:33:13.412781Z"
    }
   },
   "cell_type": "code",
   "source": "df.head(5)\n",
   "id": "bda9fe5e298b273e",
   "outputs": [
    {
     "data": {
      "text/plain": [
       "     BMI  PhysicalHealth  MentalHealth  AgeCategory  Race  GenHealth  \\\n",
       "0  16.60             3.0          30.0            7     5          4   \n",
       "1  20.34             0.0           0.0           12     5          4   \n",
       "2  26.58            20.0          30.0            9     5          1   \n",
       "3  24.21             0.0           0.0           11     5          2   \n",
       "4  23.71            28.0           0.0            4     5          4   \n",
       "\n",
       "   SleepTime  HeartDisease_Yes  Smoking_Yes  AlcoholDrinking_Yes  Stroke_Yes  \\\n",
       "0        5.0             False         True                False       False   \n",
       "1        7.0             False        False                False        True   \n",
       "2        8.0             False         True                False       False   \n",
       "3        6.0             False        False                False       False   \n",
       "4        8.0             False        False                False       False   \n",
       "\n",
       "   DiffWalking_Yes  Sex_Male  Diabetic_No, borderline diabetes  Diabetic_Yes  \\\n",
       "0            False     False                             False          True   \n",
       "1            False     False                             False         False   \n",
       "2            False      True                             False          True   \n",
       "3            False     False                             False         False   \n",
       "4             True     False                             False         False   \n",
       "\n",
       "   Diabetic_Yes (during pregnancy)  PhysicalActivity_Yes  Asthma_Yes  \\\n",
       "0                            False                  True        True   \n",
       "1                            False                  True       False   \n",
       "2                            False                  True        True   \n",
       "3                            False                 False       False   \n",
       "4                            False                  True       False   \n",
       "\n",
       "   KidneyDisease_Yes  SkinCancer_Yes  \n",
       "0              False            True  \n",
       "1              False           False  \n",
       "2              False           False  \n",
       "3              False            True  \n",
       "4              False           False  "
      ],
      "text/html": [
       "<div>\n",
       "<style scoped>\n",
       "    .dataframe tbody tr th:only-of-type {\n",
       "        vertical-align: middle;\n",
       "    }\n",
       "\n",
       "    .dataframe tbody tr th {\n",
       "        vertical-align: top;\n",
       "    }\n",
       "\n",
       "    .dataframe thead th {\n",
       "        text-align: right;\n",
       "    }\n",
       "</style>\n",
       "<table border=\"1\" class=\"dataframe\">\n",
       "  <thead>\n",
       "    <tr style=\"text-align: right;\">\n",
       "      <th></th>\n",
       "      <th>BMI</th>\n",
       "      <th>PhysicalHealth</th>\n",
       "      <th>MentalHealth</th>\n",
       "      <th>AgeCategory</th>\n",
       "      <th>Race</th>\n",
       "      <th>GenHealth</th>\n",
       "      <th>SleepTime</th>\n",
       "      <th>HeartDisease_Yes</th>\n",
       "      <th>Smoking_Yes</th>\n",
       "      <th>AlcoholDrinking_Yes</th>\n",
       "      <th>Stroke_Yes</th>\n",
       "      <th>DiffWalking_Yes</th>\n",
       "      <th>Sex_Male</th>\n",
       "      <th>Diabetic_No, borderline diabetes</th>\n",
       "      <th>Diabetic_Yes</th>\n",
       "      <th>Diabetic_Yes (during pregnancy)</th>\n",
       "      <th>PhysicalActivity_Yes</th>\n",
       "      <th>Asthma_Yes</th>\n",
       "      <th>KidneyDisease_Yes</th>\n",
       "      <th>SkinCancer_Yes</th>\n",
       "    </tr>\n",
       "  </thead>\n",
       "  <tbody>\n",
       "    <tr>\n",
       "      <th>0</th>\n",
       "      <td>16.60</td>\n",
       "      <td>3.0</td>\n",
       "      <td>30.0</td>\n",
       "      <td>7</td>\n",
       "      <td>5</td>\n",
       "      <td>4</td>\n",
       "      <td>5.0</td>\n",
       "      <td>False</td>\n",
       "      <td>True</td>\n",
       "      <td>False</td>\n",
       "      <td>False</td>\n",
       "      <td>False</td>\n",
       "      <td>False</td>\n",
       "      <td>False</td>\n",
       "      <td>True</td>\n",
       "      <td>False</td>\n",
       "      <td>True</td>\n",
       "      <td>True</td>\n",
       "      <td>False</td>\n",
       "      <td>True</td>\n",
       "    </tr>\n",
       "    <tr>\n",
       "      <th>1</th>\n",
       "      <td>20.34</td>\n",
       "      <td>0.0</td>\n",
       "      <td>0.0</td>\n",
       "      <td>12</td>\n",
       "      <td>5</td>\n",
       "      <td>4</td>\n",
       "      <td>7.0</td>\n",
       "      <td>False</td>\n",
       "      <td>False</td>\n",
       "      <td>False</td>\n",
       "      <td>True</td>\n",
       "      <td>False</td>\n",
       "      <td>False</td>\n",
       "      <td>False</td>\n",
       "      <td>False</td>\n",
       "      <td>False</td>\n",
       "      <td>True</td>\n",
       "      <td>False</td>\n",
       "      <td>False</td>\n",
       "      <td>False</td>\n",
       "    </tr>\n",
       "    <tr>\n",
       "      <th>2</th>\n",
       "      <td>26.58</td>\n",
       "      <td>20.0</td>\n",
       "      <td>30.0</td>\n",
       "      <td>9</td>\n",
       "      <td>5</td>\n",
       "      <td>1</td>\n",
       "      <td>8.0</td>\n",
       "      <td>False</td>\n",
       "      <td>True</td>\n",
       "      <td>False</td>\n",
       "      <td>False</td>\n",
       "      <td>False</td>\n",
       "      <td>True</td>\n",
       "      <td>False</td>\n",
       "      <td>True</td>\n",
       "      <td>False</td>\n",
       "      <td>True</td>\n",
       "      <td>True</td>\n",
       "      <td>False</td>\n",
       "      <td>False</td>\n",
       "    </tr>\n",
       "    <tr>\n",
       "      <th>3</th>\n",
       "      <td>24.21</td>\n",
       "      <td>0.0</td>\n",
       "      <td>0.0</td>\n",
       "      <td>11</td>\n",
       "      <td>5</td>\n",
       "      <td>2</td>\n",
       "      <td>6.0</td>\n",
       "      <td>False</td>\n",
       "      <td>False</td>\n",
       "      <td>False</td>\n",
       "      <td>False</td>\n",
       "      <td>False</td>\n",
       "      <td>False</td>\n",
       "      <td>False</td>\n",
       "      <td>False</td>\n",
       "      <td>False</td>\n",
       "      <td>False</td>\n",
       "      <td>False</td>\n",
       "      <td>False</td>\n",
       "      <td>True</td>\n",
       "    </tr>\n",
       "    <tr>\n",
       "      <th>4</th>\n",
       "      <td>23.71</td>\n",
       "      <td>28.0</td>\n",
       "      <td>0.0</td>\n",
       "      <td>4</td>\n",
       "      <td>5</td>\n",
       "      <td>4</td>\n",
       "      <td>8.0</td>\n",
       "      <td>False</td>\n",
       "      <td>False</td>\n",
       "      <td>False</td>\n",
       "      <td>False</td>\n",
       "      <td>True</td>\n",
       "      <td>False</td>\n",
       "      <td>False</td>\n",
       "      <td>False</td>\n",
       "      <td>False</td>\n",
       "      <td>True</td>\n",
       "      <td>False</td>\n",
       "      <td>False</td>\n",
       "      <td>False</td>\n",
       "    </tr>\n",
       "  </tbody>\n",
       "</table>\n",
       "</div>"
      ]
     },
     "execution_count": 432,
     "metadata": {},
     "output_type": "execute_result"
    }
   ],
   "execution_count": 432
  },
  {
   "cell_type": "markdown",
   "id": "ddb3a715",
   "metadata": {
    "id": "ddb3a715"
   },
   "source": [
    "### 12. Store the target column (i.e.'HeartDisease') in the y variable and the rest of the columns in the X variable."
   ]
  },
  {
   "metadata": {
    "ExecuteTime": {
     "end_time": "2024-11-17T08:33:14.008458Z",
     "start_time": "2024-11-17T08:33:13.497468Z"
    }
   },
   "cell_type": "code",
   "source": [
    "# Target variable (y) and feature set (X)\n",
    "df = pd.read_csv(data)\n",
    "X = df.drop('HeartDisease', axis=1)\n",
    "y = df['HeartDisease']\n"
   ],
   "id": "f0036ff8dcbe25ba",
   "outputs": [],
   "execution_count": 433
  },
  {
   "metadata": {
    "id": "9628128c",
    "ExecuteTime": {
     "end_time": "2024-11-17T08:33:14.072037Z",
     "start_time": "2024-11-17T08:33:14.052631Z"
    }
   },
   "cell_type": "code",
   "source": "X.head()\n",
   "id": "9628128c",
   "outputs": [
    {
     "data": {
      "text/plain": [
       "     BMI Smoking AlcoholDrinking Stroke  PhysicalHealth  MentalHealth  \\\n",
       "0  16.60     Yes              No     No             3.0          30.0   \n",
       "1  20.34      No              No    Yes             0.0           0.0   \n",
       "2  26.58     Yes              No     No            20.0          30.0   \n",
       "3  24.21      No              No     No             0.0           0.0   \n",
       "4  23.71      No              No     No            28.0           0.0   \n",
       "\n",
       "  DiffWalking     Sex  AgeCategory   Race Diabetic PhysicalActivity  \\\n",
       "0          No  Female        55-59  White      Yes              Yes   \n",
       "1          No  Female  80 or older  White       No              Yes   \n",
       "2          No    Male        65-69  White      Yes              Yes   \n",
       "3          No  Female        75-79  White       No               No   \n",
       "4         Yes  Female        40-44  White       No              Yes   \n",
       "\n",
       "   GenHealth  SleepTime Asthma KidneyDisease SkinCancer  \n",
       "0  Very good        5.0    Yes            No        Yes  \n",
       "1  Very good        7.0     No            No         No  \n",
       "2       Fair        8.0    Yes            No         No  \n",
       "3       Good        6.0     No            No        Yes  \n",
       "4  Very good        8.0     No            No         No  "
      ],
      "text/html": [
       "<div>\n",
       "<style scoped>\n",
       "    .dataframe tbody tr th:only-of-type {\n",
       "        vertical-align: middle;\n",
       "    }\n",
       "\n",
       "    .dataframe tbody tr th {\n",
       "        vertical-align: top;\n",
       "    }\n",
       "\n",
       "    .dataframe thead th {\n",
       "        text-align: right;\n",
       "    }\n",
       "</style>\n",
       "<table border=\"1\" class=\"dataframe\">\n",
       "  <thead>\n",
       "    <tr style=\"text-align: right;\">\n",
       "      <th></th>\n",
       "      <th>BMI</th>\n",
       "      <th>Smoking</th>\n",
       "      <th>AlcoholDrinking</th>\n",
       "      <th>Stroke</th>\n",
       "      <th>PhysicalHealth</th>\n",
       "      <th>MentalHealth</th>\n",
       "      <th>DiffWalking</th>\n",
       "      <th>Sex</th>\n",
       "      <th>AgeCategory</th>\n",
       "      <th>Race</th>\n",
       "      <th>Diabetic</th>\n",
       "      <th>PhysicalActivity</th>\n",
       "      <th>GenHealth</th>\n",
       "      <th>SleepTime</th>\n",
       "      <th>Asthma</th>\n",
       "      <th>KidneyDisease</th>\n",
       "      <th>SkinCancer</th>\n",
       "    </tr>\n",
       "  </thead>\n",
       "  <tbody>\n",
       "    <tr>\n",
       "      <th>0</th>\n",
       "      <td>16.60</td>\n",
       "      <td>Yes</td>\n",
       "      <td>No</td>\n",
       "      <td>No</td>\n",
       "      <td>3.0</td>\n",
       "      <td>30.0</td>\n",
       "      <td>No</td>\n",
       "      <td>Female</td>\n",
       "      <td>55-59</td>\n",
       "      <td>White</td>\n",
       "      <td>Yes</td>\n",
       "      <td>Yes</td>\n",
       "      <td>Very good</td>\n",
       "      <td>5.0</td>\n",
       "      <td>Yes</td>\n",
       "      <td>No</td>\n",
       "      <td>Yes</td>\n",
       "    </tr>\n",
       "    <tr>\n",
       "      <th>1</th>\n",
       "      <td>20.34</td>\n",
       "      <td>No</td>\n",
       "      <td>No</td>\n",
       "      <td>Yes</td>\n",
       "      <td>0.0</td>\n",
       "      <td>0.0</td>\n",
       "      <td>No</td>\n",
       "      <td>Female</td>\n",
       "      <td>80 or older</td>\n",
       "      <td>White</td>\n",
       "      <td>No</td>\n",
       "      <td>Yes</td>\n",
       "      <td>Very good</td>\n",
       "      <td>7.0</td>\n",
       "      <td>No</td>\n",
       "      <td>No</td>\n",
       "      <td>No</td>\n",
       "    </tr>\n",
       "    <tr>\n",
       "      <th>2</th>\n",
       "      <td>26.58</td>\n",
       "      <td>Yes</td>\n",
       "      <td>No</td>\n",
       "      <td>No</td>\n",
       "      <td>20.0</td>\n",
       "      <td>30.0</td>\n",
       "      <td>No</td>\n",
       "      <td>Male</td>\n",
       "      <td>65-69</td>\n",
       "      <td>White</td>\n",
       "      <td>Yes</td>\n",
       "      <td>Yes</td>\n",
       "      <td>Fair</td>\n",
       "      <td>8.0</td>\n",
       "      <td>Yes</td>\n",
       "      <td>No</td>\n",
       "      <td>No</td>\n",
       "    </tr>\n",
       "    <tr>\n",
       "      <th>3</th>\n",
       "      <td>24.21</td>\n",
       "      <td>No</td>\n",
       "      <td>No</td>\n",
       "      <td>No</td>\n",
       "      <td>0.0</td>\n",
       "      <td>0.0</td>\n",
       "      <td>No</td>\n",
       "      <td>Female</td>\n",
       "      <td>75-79</td>\n",
       "      <td>White</td>\n",
       "      <td>No</td>\n",
       "      <td>No</td>\n",
       "      <td>Good</td>\n",
       "      <td>6.0</td>\n",
       "      <td>No</td>\n",
       "      <td>No</td>\n",
       "      <td>Yes</td>\n",
       "    </tr>\n",
       "    <tr>\n",
       "      <th>4</th>\n",
       "      <td>23.71</td>\n",
       "      <td>No</td>\n",
       "      <td>No</td>\n",
       "      <td>No</td>\n",
       "      <td>28.0</td>\n",
       "      <td>0.0</td>\n",
       "      <td>Yes</td>\n",
       "      <td>Female</td>\n",
       "      <td>40-44</td>\n",
       "      <td>White</td>\n",
       "      <td>No</td>\n",
       "      <td>Yes</td>\n",
       "      <td>Very good</td>\n",
       "      <td>8.0</td>\n",
       "      <td>No</td>\n",
       "      <td>No</td>\n",
       "      <td>No</td>\n",
       "    </tr>\n",
       "  </tbody>\n",
       "</table>\n",
       "</div>"
      ]
     },
     "execution_count": 434,
     "metadata": {},
     "output_type": "execute_result"
    }
   ],
   "execution_count": 434
  },
  {
   "metadata": {
    "ExecuteTime": {
     "end_time": "2024-11-17T08:33:14.174747Z",
     "start_time": "2024-11-17T08:33:14.167614Z"
    }
   },
   "cell_type": "code",
   "source": "y.head()\n",
   "id": "938aaf6d7f30d633",
   "outputs": [
    {
     "data": {
      "text/plain": [
       "0    No\n",
       "1    No\n",
       "2    No\n",
       "3    No\n",
       "4    No\n",
       "Name: HeartDisease, dtype: object"
      ]
     },
     "execution_count": 435,
     "metadata": {},
     "output_type": "execute_result"
    }
   ],
   "execution_count": 435
  },
  {
   "cell_type": "markdown",
   "id": "68db6b1e",
   "metadata": {
    "id": "68db6b1e"
   },
   "source": [
    "### 13. Split the dataset into two parts (i.e. 70% train and 30% test) and print the shape of the train and test data"
   ]
  },
  {
   "cell_type": "code",
   "id": "0077d21b",
   "metadata": {
    "id": "0077d21b",
    "ExecuteTime": {
     "end_time": "2024-11-17T08:33:14.455014Z",
     "start_time": "2024-11-17T08:33:14.345831Z"
    }
   },
   "source": [
    "# Split the dataset into train and test sets\n",
    "X_train, X_test, y_train, y_test = train_test_split(X, y, test_size=0.30, random_state=0)\n",
    "\n",
    "# Print the shapes of the train and test sets\n",
    "print(f\"Training X data shape: {X_train.shape}\")\n",
    "print(f\"Test X data shape: {X_test.shape}\")\n"
   ],
   "outputs": [
    {
     "name": "stdout",
     "output_type": "stream",
     "text": [
      "Training X data shape: (223856, 17)\n",
      "Test X data shape: (95939, 17)\n"
     ]
    }
   ],
   "execution_count": 436
  },
  {
   "metadata": {
    "ExecuteTime": {
     "end_time": "2024-11-17T08:33:14.632123Z",
     "start_time": "2024-11-17T08:33:14.627712Z"
    }
   },
   "cell_type": "code",
   "source": [
    "print(f\"Training y data shape: {y_train.shape}\")\n",
    "print(f\"Test y data shape: {y_test.shape}\")\n"
   ],
   "id": "9f16d2ab726fff93",
   "outputs": [
    {
     "name": "stdout",
     "output_type": "stream",
     "text": [
      "Training y data shape: (223856,)\n",
      "Test y data shape: (95939,)\n"
     ]
    }
   ],
   "execution_count": 437
  },
  {
   "cell_type": "markdown",
   "id": "495ea012",
   "metadata": {
    "id": "495ea012"
   },
   "source": [
    "### 14. Standardize the numerical columns using Standard Scalar approach for both train and test data."
   ]
  },
  {
   "metadata": {
    "ExecuteTime": {
     "end_time": "2024-11-17T08:33:15.458890Z",
     "start_time": "2024-11-17T08:33:14.730460Z"
    }
   },
   "cell_type": "code",
   "source": [
    "# Convert binary categorical columns to 0 and 1\n",
    "df = pd.read_csv(data)\n",
    "\n",
    "binary_columns = ['Smoking', 'AlcoholDrinking', 'Stroke', 'DiffWalking', 'Sex', 'Diabetic', 'PhysicalActivity', 'Asthma', 'KidneyDisease', 'SkinCancer']\n",
    "\n",
    "# Map 'Yes' to 1 and 'No' to 0, also handle 'Male' to 1 and 'Female' to 0 for the 'Sex' column\n",
    "df[binary_columns] = df[binary_columns].apply(lambda x: x.map({'Yes': 1, 'No': 0, 'Male': 1, 'Female': 0}))\n",
    "\n",
    "# Check if all these columns have been converted properly\n",
    "print(df[binary_columns].head())\n"
   ],
   "id": "f0ec11cadd44f0b1",
   "outputs": [
    {
     "name": "stdout",
     "output_type": "stream",
     "text": [
      "   Smoking  AlcoholDrinking  Stroke  DiffWalking  Sex  Diabetic  \\\n",
      "0        1                0       0            0    0       1.0   \n",
      "1        0                0       1            0    0       0.0   \n",
      "2        1                0       0            0    1       1.0   \n",
      "3        0                0       0            0    0       0.0   \n",
      "4        0                0       0            1    0       0.0   \n",
      "\n",
      "   PhysicalActivity  Asthma  KidneyDisease  SkinCancer  \n",
      "0                 1       1              0           1  \n",
      "1                 1       0              0           0  \n",
      "2                 1       1              0           0  \n",
      "3                 0       0              0           1  \n",
      "4                 1       0              0           0  \n"
     ]
    }
   ],
   "execution_count": 438
  },
  {
   "metadata": {
    "ExecuteTime": {
     "end_time": "2024-11-17T08:33:15.532676Z",
     "start_time": "2024-11-17T08:33:15.498354Z"
    }
   },
   "cell_type": "code",
   "source": [
    "# Label Encoding for ordinal columns like 'AgeCategory', 'GenHealth'\n",
    "df['AgeCategory'] = df['AgeCategory'].astype('category').cat.codes\n",
    "df['GenHealth'] = df['GenHealth'].astype('category').cat.codes\n"
   ],
   "id": "736e3b2b6378c087",
   "outputs": [],
   "execution_count": 439
  },
  {
   "metadata": {
    "ExecuteTime": {
     "end_time": "2024-11-17T08:33:15.655761Z",
     "start_time": "2024-11-17T08:33:15.574462Z"
    }
   },
   "cell_type": "code",
   "source": [
    "# One-Hot Encoding for columns like 'Race' (use drop_first=True to avoid multicollinearity)\n",
    "df = pd.get_dummies(df, columns=['Race'], drop_first=True)\n",
    "\n",
    "# Verify the transformation\n",
    "print(df.head())\n"
   ],
   "id": "dcf99fc3827709c7",
   "outputs": [
    {
     "name": "stdout",
     "output_type": "stream",
     "text": [
      "  HeartDisease    BMI  Smoking  AlcoholDrinking  Stroke  PhysicalHealth  \\\n",
      "0           No  16.60        1                0       0             3.0   \n",
      "1           No  20.34        0                0       1             0.0   \n",
      "2           No  26.58        1                0       0            20.0   \n",
      "3           No  24.21        0                0       0             0.0   \n",
      "4           No  23.71        0                0       0            28.0   \n",
      "\n",
      "   MentalHealth  DiffWalking  Sex  AgeCategory  ...  GenHealth  SleepTime  \\\n",
      "0          30.0            0    0            7  ...          4        5.0   \n",
      "1           0.0            0    0           12  ...          4        7.0   \n",
      "2          30.0            0    1            9  ...          1        8.0   \n",
      "3           0.0            0    0           11  ...          2        6.0   \n",
      "4           0.0            1    0            4  ...          4        8.0   \n",
      "\n",
      "   Asthma  KidneyDisease  SkinCancer  Race_Asian  Race_Black  Race_Hispanic  \\\n",
      "0       1              0           1       False       False          False   \n",
      "1       0              0           0       False       False          False   \n",
      "2       1              0           0       False       False          False   \n",
      "3       0              0           1       False       False          False   \n",
      "4       0              0           0       False       False          False   \n",
      "\n",
      "   Race_Other  Race_White  \n",
      "0       False        True  \n",
      "1       False        True  \n",
      "2       False        True  \n",
      "3       False        True  \n",
      "4       False        True  \n",
      "\n",
      "[5 rows x 22 columns]\n"
     ]
    }
   ],
   "execution_count": 440
  },
  {
   "metadata": {
    "ExecuteTime": {
     "end_time": "2024-11-17T08:33:15.704099Z",
     "start_time": "2024-11-17T08:33:15.694852Z"
    }
   },
   "cell_type": "code",
   "source": [
    "# Check the data types of all columns to ensure everything is numeric\n",
    "print(df.dtypes)\n"
   ],
   "id": "2e9a81bfc599180f",
   "outputs": [
    {
     "name": "stdout",
     "output_type": "stream",
     "text": [
      "HeartDisease         object\n",
      "BMI                 float64\n",
      "Smoking               int64\n",
      "AlcoholDrinking       int64\n",
      "Stroke                int64\n",
      "PhysicalHealth      float64\n",
      "MentalHealth        float64\n",
      "DiffWalking           int64\n",
      "Sex                   int64\n",
      "AgeCategory            int8\n",
      "Diabetic            float64\n",
      "PhysicalActivity      int64\n",
      "GenHealth              int8\n",
      "SleepTime           float64\n",
      "Asthma                int64\n",
      "KidneyDisease         int64\n",
      "SkinCancer            int64\n",
      "Race_Asian             bool\n",
      "Race_Black             bool\n",
      "Race_Hispanic          bool\n",
      "Race_Other             bool\n",
      "Race_White             bool\n",
      "dtype: object\n"
     ]
    }
   ],
   "execution_count": 441
  },
  {
   "metadata": {
    "ExecuteTime": {
     "end_time": "2024-11-17T08:33:15.760356Z",
     "start_time": "2024-11-17T08:33:15.743937Z"
    }
   },
   "cell_type": "code",
   "source": [
    "# Separate features (X) and target (y)\n",
    "X = df.drop('HeartDisease', axis=1)  # Assuming 'HeartDisease' is your target variable\n",
    "y = df['HeartDisease']\n"
   ],
   "id": "560205d6a5f84d9a",
   "outputs": [],
   "execution_count": 442
  },
  {
   "metadata": {
    "ExecuteTime": {
     "end_time": "2024-11-17T08:33:15.869712Z",
     "start_time": "2024-11-17T08:33:15.803789Z"
    }
   },
   "cell_type": "code",
   "source": [
    "# Split into train and test data\n",
    "from sklearn.model_selection import train_test_split\n",
    "X_train, X_test, y_train, y_test = train_test_split(X, y, test_size=0.3, random_state=0)\n",
    "\n",
    "# Check the shapes of the splits\n",
    "print(f\"X_train shape: {X_train.shape}, X_test shape: {X_test.shape}\")\n"
   ],
   "id": "f9595e7139ca4cfa",
   "outputs": [
    {
     "name": "stdout",
     "output_type": "stream",
     "text": [
      "X_train shape: (223856, 21), X_test shape: (95939, 21)\n"
     ]
    }
   ],
   "execution_count": 443
  },
  {
   "metadata": {
    "id": "19357a7b",
    "ExecuteTime": {
     "end_time": "2024-11-17T08:33:16.193131Z",
     "start_time": "2024-11-17T08:33:15.916568Z"
    }
   },
   "cell_type": "code",
   "source": [
    "from sklearn.preprocessing import StandardScaler\n",
    "\n",
    "# Initialize StandardScaler\n",
    "scaler = StandardScaler()\n",
    "\n",
    "# Standardize the numerical columns for both train and test data\n",
    "X_train_scaled = scaler.fit_transform(X_train)\n",
    "X_test_scaled = scaler.transform(X_test)\n",
    "\n",
    "# Verify the shape of the scaled data\n",
    "print(X_train_scaled.shape, X_test_scaled.shape)\n"
   ],
   "id": "19357a7b",
   "outputs": [
    {
     "name": "stdout",
     "output_type": "stream",
     "text": [
      "(223856, 21) (95939, 21)\n"
     ]
    }
   ],
   "execution_count": 444
  },
  {
   "metadata": {
    "ExecuteTime": {
     "end_time": "2024-11-17T08:33:16.241926Z",
     "start_time": "2024-11-17T08:33:16.238042Z"
    }
   },
   "cell_type": "code",
   "source": [
    "##This code from Faculty is not working, so have added above code\n",
    "#ss = StandardScaler()\n",
    "\n",
    "#X_train.iloc[:,:7] = ss.fit_transform(X_train.iloc[:,:7])\n",
    "#X_test.iloc[:,:7] = ss.transform(X_test.iloc[:,:7])\n",
    "#X_train.head(2)\n",
    "#X_test.head(2)"
   ],
   "id": "8063e789934ffbd8",
   "outputs": [],
   "execution_count": 445
  },
  {
   "cell_type": "markdown",
   "id": "84d0e4a4",
   "metadata": {
    "id": "84d0e4a4"
   },
   "source": [
    "### 15. Write a function.\n",
    "- i) Which can take the model and data as inputs.\n",
    "- ii) Fits the model with the train data.\n",
    "- iii) Makes predictions on the test set.\n",
    "- iv) Returns the Accuracy Score."
   ]
  },
  {
   "metadata": {
    "ExecuteTime": {
     "end_time": "2024-11-17T08:33:47.773425Z",
     "start_time": "2024-11-17T08:33:16.286432Z"
    }
   },
   "cell_type": "code",
   "source": [
    "from sklearn.model_selection import train_test_split\n",
    "from sklearn.preprocessing import StandardScaler\n",
    "from sklearn.linear_model import LogisticRegression\n",
    "from sklearn.ensemble import RandomForestClassifier\n",
    "from sklearn.metrics import accuracy_score\n",
    "from sklearn.impute import SimpleImputer\n",
    "\n",
    "# X and y are already defined with your features and labels\n",
    "\n",
    "# Split data into training and test sets\n",
    "X_train, X_test, y_train, y_test = train_test_split(X, y, test_size=0.30, random_state=0)\n",
    "\n",
    "# Handle missing values with SimpleImputer (using mean to fill missing values)\n",
    "imputer = SimpleImputer(strategy='mean')\n",
    "X_train_imputed = imputer.fit_transform(X_train)\n",
    "X_test_imputed = imputer.transform(X_test)\n",
    "\n",
    "# Scale features\n",
    "scaler = StandardScaler()\n",
    "X_train_scaled = scaler.fit_transform(X_train_imputed)\n",
    "X_test_scaled = scaler.transform(X_test_imputed)\n",
    "\n",
    "# Initialize models\n",
    "logreg = LogisticRegression()\n",
    "rf = RandomForestClassifier()\n",
    "\n",
    "# Define the evaluate_model function\n",
    "def evaluate_model(model, X_train, y_train, X_test, y_test):\n",
    "    # Train the model\n",
    "    model.fit(X_train, y_train)\n",
    "    \n",
    "    # Make predictions\n",
    "    y_pred = model.predict(X_test)\n",
    "    \n",
    "    # Calculate accuracy\n",
    "    accuracy = accuracy_score(y_test, y_pred)\n",
    "    return accuracy\n",
    "\n",
    "# Evaluate models\n",
    "logreg_accuracy = evaluate_model(logreg, X_train_scaled, y_train, X_test_scaled, y_test)\n",
    "rf_accuracy = evaluate_model(rf, X_train_scaled, y_train, X_test_scaled, y_test)\n",
    "\n",
    "# Print the accuracies\n",
    "print(f\"Logistic Regression Accuracy: {logreg_accuracy:.4f}\")\n",
    "print(f\"Random Forest Accuracy: {rf_accuracy:.4f}\")\n"
   ],
   "id": "35d562dc00b11837",
   "outputs": [
    {
     "name": "stdout",
     "output_type": "stream",
     "text": [
      "Logistic Regression Accuracy: 0.9151\n",
      "Random Forest Accuracy: 0.9070\n"
     ]
    }
   ],
   "execution_count": 446
  },
  {
   "cell_type": "markdown",
   "id": "e709b9d4",
   "metadata": {
    "id": "e709b9d4"
   },
   "source": [
    "### 16. Use the function and train a Logistic regression, KNN, Naive Bayes, Decision tree, Random Forest, Adaboost, GradientBoost, and Stacked Classifier models and make predictions on test data and evaluate the models, compare and write your conclusions and steps to be taken in future in order to improve the accuracy of the model."
   ]
  },
  {
   "metadata": {
    "ExecuteTime": {
     "end_time": "2024-11-17T08:33:48.264469Z",
     "start_time": "2024-11-17T08:33:47.816748Z"
    }
   },
   "cell_type": "code",
   "source": [
    "df = pd.read_csv(data)\n",
    "df.head()\n"
   ],
   "id": "286eaee3133fb7aa",
   "outputs": [
    {
     "data": {
      "text/plain": [
       "  HeartDisease    BMI Smoking AlcoholDrinking Stroke  PhysicalHealth  \\\n",
       "0           No  16.60     Yes              No     No             3.0   \n",
       "1           No  20.34      No              No    Yes             0.0   \n",
       "2           No  26.58     Yes              No     No            20.0   \n",
       "3           No  24.21      No              No     No             0.0   \n",
       "4           No  23.71      No              No     No            28.0   \n",
       "\n",
       "   MentalHealth DiffWalking     Sex  AgeCategory   Race Diabetic  \\\n",
       "0          30.0          No  Female        55-59  White      Yes   \n",
       "1           0.0          No  Female  80 or older  White       No   \n",
       "2          30.0          No    Male        65-69  White      Yes   \n",
       "3           0.0          No  Female        75-79  White       No   \n",
       "4           0.0         Yes  Female        40-44  White       No   \n",
       "\n",
       "  PhysicalActivity  GenHealth  SleepTime Asthma KidneyDisease SkinCancer  \n",
       "0              Yes  Very good        5.0    Yes            No        Yes  \n",
       "1              Yes  Very good        7.0     No            No         No  \n",
       "2              Yes       Fair        8.0    Yes            No         No  \n",
       "3               No       Good        6.0     No            No        Yes  \n",
       "4              Yes  Very good        8.0     No            No         No  "
      ],
      "text/html": [
       "<div>\n",
       "<style scoped>\n",
       "    .dataframe tbody tr th:only-of-type {\n",
       "        vertical-align: middle;\n",
       "    }\n",
       "\n",
       "    .dataframe tbody tr th {\n",
       "        vertical-align: top;\n",
       "    }\n",
       "\n",
       "    .dataframe thead th {\n",
       "        text-align: right;\n",
       "    }\n",
       "</style>\n",
       "<table border=\"1\" class=\"dataframe\">\n",
       "  <thead>\n",
       "    <tr style=\"text-align: right;\">\n",
       "      <th></th>\n",
       "      <th>HeartDisease</th>\n",
       "      <th>BMI</th>\n",
       "      <th>Smoking</th>\n",
       "      <th>AlcoholDrinking</th>\n",
       "      <th>Stroke</th>\n",
       "      <th>PhysicalHealth</th>\n",
       "      <th>MentalHealth</th>\n",
       "      <th>DiffWalking</th>\n",
       "      <th>Sex</th>\n",
       "      <th>AgeCategory</th>\n",
       "      <th>Race</th>\n",
       "      <th>Diabetic</th>\n",
       "      <th>PhysicalActivity</th>\n",
       "      <th>GenHealth</th>\n",
       "      <th>SleepTime</th>\n",
       "      <th>Asthma</th>\n",
       "      <th>KidneyDisease</th>\n",
       "      <th>SkinCancer</th>\n",
       "    </tr>\n",
       "  </thead>\n",
       "  <tbody>\n",
       "    <tr>\n",
       "      <th>0</th>\n",
       "      <td>No</td>\n",
       "      <td>16.60</td>\n",
       "      <td>Yes</td>\n",
       "      <td>No</td>\n",
       "      <td>No</td>\n",
       "      <td>3.0</td>\n",
       "      <td>30.0</td>\n",
       "      <td>No</td>\n",
       "      <td>Female</td>\n",
       "      <td>55-59</td>\n",
       "      <td>White</td>\n",
       "      <td>Yes</td>\n",
       "      <td>Yes</td>\n",
       "      <td>Very good</td>\n",
       "      <td>5.0</td>\n",
       "      <td>Yes</td>\n",
       "      <td>No</td>\n",
       "      <td>Yes</td>\n",
       "    </tr>\n",
       "    <tr>\n",
       "      <th>1</th>\n",
       "      <td>No</td>\n",
       "      <td>20.34</td>\n",
       "      <td>No</td>\n",
       "      <td>No</td>\n",
       "      <td>Yes</td>\n",
       "      <td>0.0</td>\n",
       "      <td>0.0</td>\n",
       "      <td>No</td>\n",
       "      <td>Female</td>\n",
       "      <td>80 or older</td>\n",
       "      <td>White</td>\n",
       "      <td>No</td>\n",
       "      <td>Yes</td>\n",
       "      <td>Very good</td>\n",
       "      <td>7.0</td>\n",
       "      <td>No</td>\n",
       "      <td>No</td>\n",
       "      <td>No</td>\n",
       "    </tr>\n",
       "    <tr>\n",
       "      <th>2</th>\n",
       "      <td>No</td>\n",
       "      <td>26.58</td>\n",
       "      <td>Yes</td>\n",
       "      <td>No</td>\n",
       "      <td>No</td>\n",
       "      <td>20.0</td>\n",
       "      <td>30.0</td>\n",
       "      <td>No</td>\n",
       "      <td>Male</td>\n",
       "      <td>65-69</td>\n",
       "      <td>White</td>\n",
       "      <td>Yes</td>\n",
       "      <td>Yes</td>\n",
       "      <td>Fair</td>\n",
       "      <td>8.0</td>\n",
       "      <td>Yes</td>\n",
       "      <td>No</td>\n",
       "      <td>No</td>\n",
       "    </tr>\n",
       "    <tr>\n",
       "      <th>3</th>\n",
       "      <td>No</td>\n",
       "      <td>24.21</td>\n",
       "      <td>No</td>\n",
       "      <td>No</td>\n",
       "      <td>No</td>\n",
       "      <td>0.0</td>\n",
       "      <td>0.0</td>\n",
       "      <td>No</td>\n",
       "      <td>Female</td>\n",
       "      <td>75-79</td>\n",
       "      <td>White</td>\n",
       "      <td>No</td>\n",
       "      <td>No</td>\n",
       "      <td>Good</td>\n",
       "      <td>6.0</td>\n",
       "      <td>No</td>\n",
       "      <td>No</td>\n",
       "      <td>Yes</td>\n",
       "    </tr>\n",
       "    <tr>\n",
       "      <th>4</th>\n",
       "      <td>No</td>\n",
       "      <td>23.71</td>\n",
       "      <td>No</td>\n",
       "      <td>No</td>\n",
       "      <td>No</td>\n",
       "      <td>28.0</td>\n",
       "      <td>0.0</td>\n",
       "      <td>Yes</td>\n",
       "      <td>Female</td>\n",
       "      <td>40-44</td>\n",
       "      <td>White</td>\n",
       "      <td>No</td>\n",
       "      <td>Yes</td>\n",
       "      <td>Very good</td>\n",
       "      <td>8.0</td>\n",
       "      <td>No</td>\n",
       "      <td>No</td>\n",
       "      <td>No</td>\n",
       "    </tr>\n",
       "  </tbody>\n",
       "</table>\n",
       "</div>"
      ]
     },
     "execution_count": 447,
     "metadata": {},
     "output_type": "execute_result"
    }
   ],
   "execution_count": 447
  },
  {
   "metadata": {
    "ExecuteTime": {
     "end_time": "2024-11-17T08:33:49.207319Z",
     "start_time": "2024-11-17T08:33:48.349723Z"
    }
   },
   "cell_type": "code",
   "source": [
    "from sklearn.preprocessing import LabelEncoder\n",
    "\n",
    "# Columns with categorical data that need to be encoded\n",
    "categorical_columns = ['Smoking', 'AlcoholDrinking', 'Stroke', 'DiffWalking', 'Sex', \n",
    "                       'AgeCategory', 'Race', 'Diabetic', 'PhysicalActivity', \n",
    "                       'GenHealth', 'Asthma', 'KidneyDisease', 'SkinCancer']\n",
    "\n",
    "# Initialize the LabelEncoder\n",
    "label_encoder = LabelEncoder()\n",
    "\n",
    "# Apply label encoding to each categorical column\n",
    "for column in categorical_columns:\n",
    "    df[column] = label_encoder.fit_transform(df[column])\n",
    "\n",
    "#df = pd.read_csv(data)\n",
    "\n",
    "# Check if it works correctly\n",
    "print(df[categorical_columns].head())\n"
   ],
   "id": "689211c1ecc47d3a",
   "outputs": [
    {
     "name": "stdout",
     "output_type": "stream",
     "text": [
      "   Smoking  AlcoholDrinking  Stroke  DiffWalking  Sex  AgeCategory  Race  \\\n",
      "0        1                0       0            0    0            7     5   \n",
      "1        0                0       1            0    0           12     5   \n",
      "2        1                0       0            0    1            9     5   \n",
      "3        0                0       0            0    0           11     5   \n",
      "4        0                0       0            1    0            4     5   \n",
      "\n",
      "   Diabetic  PhysicalActivity  GenHealth  Asthma  KidneyDisease  SkinCancer  \n",
      "0         2                 1          4       1              0           1  \n",
      "1         0                 1          4       0              0           0  \n",
      "2         2                 1          1       1              0           0  \n",
      "3         0                 0          2       0              0           1  \n",
      "4         0                 1          4       0              0           0  \n"
     ]
    }
   ],
   "execution_count": 448
  },
  {
   "metadata": {
    "ExecuteTime": {
     "end_time": "2024-11-17T08:33:49.338520Z",
     "start_time": "2024-11-17T08:33:49.261104Z"
    }
   },
   "cell_type": "code",
   "source": [
    "# One-Hot Encoding for multi-class categorical columns (AgeCategory, Race)\n",
    "df = pd.get_dummies(df, columns=['AgeCategory', 'Race'], drop_first=True)\n",
    "\n",
    "# Check the result after One-Hot Encoding\n",
    "print(df.head())\n"
   ],
   "id": "33b37c30cbda4377",
   "outputs": [
    {
     "name": "stdout",
     "output_type": "stream",
     "text": [
      "  HeartDisease    BMI  Smoking  AlcoholDrinking  Stroke  PhysicalHealth  \\\n",
      "0           No  16.60        1                0       0             3.0   \n",
      "1           No  20.34        0                0       1             0.0   \n",
      "2           No  26.58        1                0       0            20.0   \n",
      "3           No  24.21        0                0       0             0.0   \n",
      "4           No  23.71        0                0       0            28.0   \n",
      "\n",
      "   MentalHealth  DiffWalking  Sex  Diabetic  ...  AgeCategory_8  \\\n",
      "0          30.0            0    0         2  ...          False   \n",
      "1           0.0            0    0         0  ...          False   \n",
      "2          30.0            0    1         2  ...          False   \n",
      "3           0.0            0    0         0  ...          False   \n",
      "4           0.0            1    0         0  ...          False   \n",
      "\n",
      "   AgeCategory_9  AgeCategory_10  AgeCategory_11  AgeCategory_12  Race_1  \\\n",
      "0          False           False           False           False   False   \n",
      "1          False           False           False            True   False   \n",
      "2           True           False           False           False   False   \n",
      "3          False           False            True           False   False   \n",
      "4          False           False           False           False   False   \n",
      "\n",
      "   Race_2  Race_3  Race_4  Race_5  \n",
      "0   False   False   False    True  \n",
      "1   False   False   False    True  \n",
      "2   False   False   False    True  \n",
      "3   False   False   False    True  \n",
      "4   False   False   False    True  \n",
      "\n",
      "[5 rows x 33 columns]\n"
     ]
    }
   ],
   "execution_count": 449
  },
  {
   "metadata": {
    "ExecuteTime": {
     "end_time": "2024-11-17T08:33:51.044252Z",
     "start_time": "2024-11-17T08:33:49.459976Z"
    }
   },
   "cell_type": "code",
   "source": [
    "# 1. Define X and y\n",
    "X = df.drop('HeartDisease', axis=1)\n",
    "y = df['HeartDisease']\n",
    "\n",
    "# 2. Split data into train and test sets\n",
    "from sklearn.model_selection import train_test_split\n",
    "X_train, X_test, y_train, y_test = train_test_split(X, y, test_size=0.3, random_state=42)\n",
    "\n",
    "# 3. Standardize the data (since many models are sensitive to feature scaling)\n",
    "from sklearn.preprocessing import StandardScaler\n",
    "scaler = StandardScaler()\n",
    "X_train_scaled = scaler.fit_transform(X_train)\n",
    "X_test_scaled = scaler.transform(X_test)\n",
    "\n",
    "# 4. Now you can proceed to evaluate the models\n",
    "# Define your models (Logistic Regression, KNN, Random Forest, etc.)\n",
    "from sklearn.linear_model import LogisticRegression\n",
    "from sklearn.ensemble import RandomForestClassifier\n",
    "\n",
    "# Example model - Logistic Regression\n",
    "logreg = LogisticRegression()\n",
    "logreg.fit(X_train_scaled, y_train)\n",
    "\n",
    "# Evaluate model\n",
    "from sklearn.metrics import accuracy_score\n",
    "y_pred = logreg.predict(X_test_scaled)\n",
    "accuracy = accuracy_score(y_test, y_pred)\n",
    "\n",
    "print(f\"Logistic Regression Accuracy: {accuracy:.4f}\")\n"
   ],
   "id": "475599efc52e9896",
   "outputs": [
    {
     "name": "stdout",
     "output_type": "stream",
     "text": [
      "Logistic Regression Accuracy: 0.9138\n"
     ]
    }
   ],
   "execution_count": 450
  },
  {
   "metadata": {
    "id": "e02c8c82",
    "ExecuteTime": {
     "end_time": "2024-11-17T08:39:58.113616Z",
     "start_time": "2024-11-17T08:33:51.091050Z"
    }
   },
   "cell_type": "code",
   "source": [
    "# Importing required libraries\n",
    "from sklearn.linear_model import LogisticRegression\n",
    "from sklearn.neighbors import KNeighborsClassifier\n",
    "from sklearn.naive_bayes import GaussianNB\n",
    "from sklearn.tree import DecisionTreeClassifier\n",
    "from sklearn.ensemble import RandomForestClassifier, AdaBoostClassifier, GradientBoostingClassifier\n",
    "from sklearn.model_selection import train_test_split\n",
    "from sklearn.preprocessing import StandardScaler\n",
    "from sklearn.metrics import accuracy_score\n",
    "from sklearn.ensemble import StackingClassifier\n",
    "from sklearn.svm import SVC\n",
    "\n",
    "# 1. Split the data (Assuming df is your dataframe with target 'HeartDisease')\n",
    "X = df.drop('HeartDisease', axis=1)\n",
    "y = df['HeartDisease']\n",
    "\n",
    "# Split into train and test data\n",
    "X_train, X_test, y_train, y_test = train_test_split(X, y, test_size=0.3, random_state=0)\n",
    "\n",
    "# Standardize the features\n",
    "scaler = StandardScaler()\n",
    "X_train_scaled = scaler.fit_transform(X_train)\n",
    "X_test_scaled = scaler.transform(X_test)\n",
    "\n",
    "# 2. Define the models for training\n",
    "models = {\n",
    "    'Logistic Regression': LogisticRegression(),\n",
    "    'KNN': KNeighborsClassifier(),\n",
    "    'Naive Bayes': GaussianNB(),\n",
    "    'Decision Tree': DecisionTreeClassifier(),\n",
    "    'Random Forest': RandomForestClassifier(),\n",
    "    'AdaBoost': AdaBoostClassifier(),\n",
    "    'Gradient Boosting': GradientBoostingClassifier(),\n",
    "}\n",
    "\n",
    "# Function to evaluate models\n",
    "def evaluate_model(model, X_train, y_train, X_test, y_test):\n",
    "    \"\"\"\n",
    "    Evaluates a machine learning model by fitting it with the training data,\n",
    "    making predictions on the test set, and returning the accuracy score.\n",
    "    \"\"\"\n",
    "    model.fit(X_train, y_train)  # Train the model\n",
    "    y_pred = model.predict(X_test)  # Make predictions\n",
    "    accuracy = accuracy_score(y_test, y_pred)  # Calculate accuracy\n",
    "    return accuracy\n",
    "\n",
    "# 3. Train and evaluate each model\n",
    "model_accuracies = {}\n",
    "for model_name, model in models.items():\n",
    "    accuracy = evaluate_model(model, X_train_scaled, y_train, X_test_scaled, y_test)\n",
    "    model_accuracies[model_name] = accuracy\n",
    "    print(f\"{model_name} Accuracy: {accuracy:.4f}\")\n",
    "\n",
    "# 4. Stacked Classifier - A model that combines the predictions of other models\n",
    "# Using a simple stacking classifier with Logistic Regression as the final estimator\n",
    "base_learners = [\n",
    "    ('logreg', LogisticRegression()),\n",
    "    ('knn', KNeighborsClassifier()),\n",
    "    ('nb', GaussianNB()),\n",
    "    ('tree', DecisionTreeClassifier()),\n",
    "    ('rf', RandomForestClassifier())\n",
    "]\n",
    "\n",
    "stacked_model = StackingClassifier(estimators=base_learners, final_estimator=LogisticRegression())\n",
    "stacked_accuracy = evaluate_model(stacked_model, X_train_scaled, y_train, X_test_scaled, y_test)\n",
    "\n",
    "# Add Stacked Classifier to the accuracies dictionary\n",
    "model_accuracies['Stacked Classifier'] = stacked_accuracy\n",
    "print(f\"Stacked Classifier Accuracy: {stacked_accuracy:.4f}\")\n",
    "\n",
    "# 5. Summary of Results\n",
    "print(\"\\nModel Comparison:\")\n",
    "for model_name, accuracy in model_accuracies.items():\n",
    "    print(f\"{model_name}: {accuracy:.4f}\")\n",
    "\n",
    "# Optional: Compare and visualize the results using a bar plot\n",
    "import matplotlib.pyplot as plt\n",
    "\n",
    "# Plotting model accuracies\n",
    "plt.figure(figsize=(10, 6))\n",
    "plt.barh(list(model_accuracies.keys()), list(model_accuracies.values()), color='skyblue')\n",
    "plt.xlabel('Accuracy')\n",
    "plt.title('Model Comparison')\n",
    "plt.show()\n"
   ],
   "id": "e02c8c82",
   "outputs": [
    {
     "name": "stdout",
     "output_type": "stream",
     "text": [
      "Logistic Regression Accuracy: 0.9151\n",
      "KNN Accuracy: 0.9057\n",
      "Naive Bayes Accuracy: 0.7093\n",
      "Decision Tree Accuracy: 0.8646\n",
      "Random Forest Accuracy: 0.9061\n",
      "AdaBoost Accuracy: 0.9154\n",
      "Gradient Boosting Accuracy: 0.9159\n",
      "Stacked Classifier Accuracy: 0.9154\n",
      "\n",
      "Model Comparison:\n",
      "Logistic Regression: 0.9151\n",
      "KNN: 0.9057\n",
      "Naive Bayes: 0.7093\n",
      "Decision Tree: 0.8646\n",
      "Random Forest: 0.9061\n",
      "AdaBoost: 0.9154\n",
      "Gradient Boosting: 0.9159\n",
      "Stacked Classifier: 0.9154\n"
     ]
    },
    {
     "data": {
      "text/plain": [
       "<Figure size 1000x600 with 1 Axes>"
      ],
      "image/png": "[encoded data removed]"
     },
     "metadata": {},
     "output_type": "display_data"
    }
   ],
   "execution_count": 451
  },
  {
   "cell_type": "markdown",
   "id": "K5f-IKPLV3bN",
   "metadata": {
    "id": "K5f-IKPLV3bN"
   },
   "source": [
    "### Conclusion"
   ]
  },
  {
   "metadata": {},
   "cell_type": "markdown",
   "source": [
    "# Here the Logistic Regression might give a baseline result, and models like Random Forest, Gradient Boosting, or AdaBoost could provide better results due to their ensemble nature.\n",
    "# So as to improve accuracy, you can experiment with feature engineering, hyperparameter tuning, or other machine learning techniques such as Stacked Classifiers.\n",
    "\n",
    "# Some models, such as Random Forest and Gradient Boosting, are typically expected to perform well because they are ensemble models that tend to have high predictive power.\n",
    "\n",
    "# KNN and Naive Bayes may perform similarly or worse, depending on the dataset's characteristics.\n",
    "# The Stacked Classifier could outperform the individual models, as it combines predictions from multiple models."
   ],
   "id": "b051b78c76bba809"
  },
  {
   "metadata": {},
   "cell_type": "markdown",
   "source": [
    "- From EDA:-\n",
    "  - People who smoke have higher chances of heart diesease than no smokers\n",
    "  - Male are more prone to suffer from heart diseases as compared to females\n",
    "  - People with age limit in between 55-75 has higher chances of getting heart diseases\n",
    "  - If person has difficulty in walking or climbing stairs there is a high probability that he or she is suffering from some heart disease\n",
    "  - There are higher chances of a person having heart disease if he does not have any kidney disease.\n",
    "- From Model:-\n",
    "  - We see that the best performing models are Gradient Boost, Adaboost,Logistic Regression and KNN with around 91% accuracy.\n",
    "  - Please note that the target class is highly imbalanced So, accuracy does not holds good for imbalanced data. Accuracy becomes poor measure of evaluation for our classification model in this context.\n",
    "  - We can further go with evaluating the models based on the different performance metrics such as presicion, recall and F1score and choose the model accordingly.\n",
    "  - Further we can apply sampling techniques and try to balance the data and build models based on that data will increase our model performance, Kindly refer to this link to know how deal with imbalanced data https://www.analyticsvidhya.com/blog/2020/07/10-techniques-to-deal-with-class-imbalance-in-machine-learning/\n",
    "  - Also, we can tune the hyperparameters and find the best set of hyperparameters and building the models based on those will increase the classification performance of the model."
   ],
   "id": "71ec0fb67779bd85"
  },
  {
   "cell_type": "markdown",
   "id": "515596d0",
   "metadata": {
    "id": "515596d0"
   },
   "source": [
    "----\n",
    "## Happy Learning:)\n",
    "----"
   ]
  }
 ],
 "metadata": {
  "colab": {
   "collapsed_sections": [],
   "name": "Supervised Learning - Lab Session .ipynb",
   "provenance": []
  },
  "kernelspec": {
   "display_name": "Python 3 (ipykernel)",
   "language": "python",
   "name": "python3"
  },
  "language_info": {
   "codemirror_mode": {
    "name": "ipython",
    "version": 3
   },
   "file_extension": ".py",
   "mimetype": "text/x-python",
   "name": "python",
   "nbconvert_exporter": "python",
   "pygments_lexer": "ipython3",
   "version": "3.9.7"
  }
 },
 "nbformat": 4,
 "nbformat_minor": 5
}
